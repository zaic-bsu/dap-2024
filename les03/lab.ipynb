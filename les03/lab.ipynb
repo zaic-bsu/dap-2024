{
  "cells": [
    {
      "cell_type": "markdown",
      "metadata": {
        "id": "qQvfD-M40xIt"
      },
      "source": [
        "# Отчёт по лабораторной работе №3. NumPy"
      ]
    },
    {
      "cell_type": "markdown",
      "metadata": {
        "id": "_uy97271gwqW"
      },
      "source": [
        "## Задание"
      ]
    },
    {
      "cell_type": "markdown",
      "metadata": {
        "id": "Q8FFEA2R08uS"
      },
      "source": [
        "Выполните следующие задания:\n",
        "\n",
        "1. Открыли файл в Google Colab (используйте собственный форк репозитория).\n",
        "2. Решили задачи.\n",
        "3. Сохранили результат в наш репозиторий github в директорию ./les03\n",
        "4. Создали pull request в репозиторий https://github.com/chebotarevsa/dap-2024. Назвали pull request в соответствии с форматом \"<Номер лабораторной работы>  <Номер группы> <ФИО>\"\n",
        "5. Сдали работу в системе \"Пегас\", а в отчет указали ссылку на pull request"
      ]
    },
    {
      "cell_type": "code",
      "execution_count": 1,
      "metadata": {
        "colab": {
          "base_uri": "https://localhost:8080/",
          "height": 35
        },
        "id": "3ftbuMN45IlN",
        "outputId": "e002d0fc-3fea-4261-81ca-d200d502abe1"
      },
      "outputs": [
        {
          "output_type": "execute_result",
          "data": {
            "text/plain": [
              "'2.0.2'"
            ],
            "application/vnd.google.colaboratory.intrinsic+json": {
              "type": "string"
            }
          },
          "metadata": {},
          "execution_count": 1
        }
      ],
      "source": [
        "import numpy as np\n",
        "np.version.version"
      ]
    },
    {
      "cell_type": "markdown",
      "metadata": {
        "id": "6iPL4gTu2ECp"
      },
      "source": [
        "\n",
        "\n",
        "```\n",
        "# Выбран кодовый формат\n",
        "```\n",
        "\n",
        "1. Создать массив 10x10 со случайными значениями, найти минимум и максимум (низкая)"
      ]
    },
    {
      "cell_type": "code",
      "execution_count": 6,
      "metadata": {
        "id": "v-AutHvo2T-D",
        "outputId": "856305c4-2858-4523-c60e-68b7ac058308",
        "colab": {
          "base_uri": "https://localhost:8080/"
        }
      },
      "outputs": [
        {
          "output_type": "stream",
          "name": "stdout",
          "text": [
            "[[ 470 -871 -159  -95 -408  587 -631  959  282  -16]\n",
            " [-467  424   30  994 -918  958  178  587  943  434]\n",
            " [ -54  476  624  201    8 -512 -845   59  494  344]\n",
            " [-329 -722  352 -143 -560  931  491  976  362  870]\n",
            " [-572  597  421  425  513 -495  613 -852  974  401]\n",
            " [ 111  139  771 -225 -691  106  470 -587 -731 -792]\n",
            " [-551 -962 -744 -959  984 -905  700   -1 -585  125]\n",
            " [ 334   85 -257   41  247  845  137 -882  604   88]\n",
            " [ 729  566   28 -666  713  658  192  709  497  925]\n",
            " [ 553  430  -41 -790  299 -911  669  108 -149 -893]]\n",
            "\n",
            "Min - -962\n",
            "Max - 994\n"
          ]
        }
      ],
      "source": [
        "import numpy as np\n",
        "\n",
        "arr = np.random.randint(-1000, 1000, size=(10,10))\n",
        "\n",
        "print(arr)\n",
        "\n",
        "print(\"\\nMin - \" + str(np.min(arr)))\n",
        "print(\"Max - \" + str(np.max(arr)))"
      ]
    },
    {
      "cell_type": "markdown",
      "metadata": {
        "id": "cwxKoGik2Xfd"
      },
      "source": [
        "2. Создать 8x8 матрицу и заполнить её единицами и нулями в шахматном порядке"
      ]
    },
    {
      "cell_type": "code",
      "execution_count": 7,
      "metadata": {
        "id": "zACAjKWC2lBy",
        "outputId": "e48a44ac-beb9-4863-8ea2-d0760059e93e",
        "colab": {
          "base_uri": "https://localhost:8080/"
        }
      },
      "outputs": [
        {
          "output_type": "stream",
          "name": "stdout",
          "text": [
            "[[0. 1. 0. 1. 0. 1. 0. 1.]\n",
            " [1. 0. 1. 0. 1. 0. 1. 0.]\n",
            " [0. 1. 0. 1. 0. 1. 0. 1.]\n",
            " [1. 0. 1. 0. 1. 0. 1. 0.]\n",
            " [0. 1. 0. 1. 0. 1. 0. 1.]\n",
            " [1. 0. 1. 0. 1. 0. 1. 0.]\n",
            " [0. 1. 0. 1. 0. 1. 0. 1.]\n",
            " [1. 0. 1. 0. 1. 0. 1. 0.]]\n"
          ]
        }
      ],
      "source": [
        "import numpy as np\n",
        "\n",
        "size = 8\n",
        "\n",
        "arr = np.zeros((size,size))\n",
        "\n",
        "for i in range(size):\n",
        "  for j in range(size):\n",
        "    if i % 2 != 0 and j % 2 != 0:\n",
        "      continue\n",
        "    if i % 2 != 0 or j % 2 != 0:\n",
        "      arr[i,j] = 1\n",
        "\n",
        "print(arr)"
      ]
    },
    {
      "cell_type": "markdown",
      "metadata": {
        "id": "YvNFm7Io2tSA"
      },
      "source": [
        "3. Дан массив из 11 элементов, поменять знак у элементов, значения которых между 3 и 8"
      ]
    },
    {
      "cell_type": "code",
      "execution_count": 11,
      "metadata": {
        "id": "cczoe3OY27fA",
        "outputId": "cb805123-3292-4658-d29e-aca5f5966ea1",
        "colab": {
          "base_uri": "https://localhost:8080/"
        }
      },
      "outputs": [
        {
          "output_type": "stream",
          "name": "stdout",
          "text": [
            "Исходный массив:[ 0  1  2  3  4  5  6  7  8  9 10]\n",
            "Итоговый массив:[ 0  1  2  3 -4 -5 -6 -7  8  9 10]\n"
          ]
        }
      ],
      "source": [
        "import numpy as np\n",
        "\n",
        "z = np.arange(11)\n",
        "\n",
        "print(\"Исходный массив:\" + str(z))\n",
        "\n",
        "for i in range(z.size):\n",
        "  if z[i] > 3 and z[i] < 8:\n",
        "    z[i] *= -1\n",
        "\n",
        "print(\"Итоговый массив:\" + str(z))"
      ]
    },
    {
      "cell_type": "markdown",
      "metadata": {
        "id": "tInYHRPf2-jQ"
      },
      "source": [
        "4. Найти среднее заначение строки матрицы и вычесть его из каждого елемента строки"
      ]
    },
    {
      "cell_type": "code",
      "execution_count": 19,
      "metadata": {
        "id": "Zbv_WG9w3km1",
        "outputId": "1b165818-1247-4cf0-c37f-4167c0d10e6e",
        "colab": {
          "base_uri": "https://localhost:8080/"
        }
      },
      "outputs": [
        {
          "output_type": "stream",
          "name": "stdout",
          "text": [
            "Исходный массив\n",
            "[[0.86283859 0.25887787 0.70910026 0.28958803 0.62439956 0.00303973\n",
            "  0.13228175 0.03751049 0.80012238 0.019918  ]\n",
            " [0.66784734 0.04335423 0.40477681 0.34670893 0.84883199 0.24826637\n",
            "  0.49369459 0.14541855 0.82662483 0.50065323]\n",
            " [0.70638009 0.26851271 0.71662143 0.46919565 0.06486245 0.72025178\n",
            "  0.8241641  0.55423264 0.28905217 0.51688256]\n",
            " [0.93314065 0.31111151 0.24268545 0.25600367 0.86062878 0.24283748\n",
            "  0.86782732 0.77449269 0.95363851 0.56678432]\n",
            " [0.42275066 0.74720926 0.22585001 0.9185954  0.3998469  0.81086596\n",
            "  0.21580759 0.06701932 0.85729344 0.63700597]]\n",
            "\n",
            "Средне арифметическое\n",
            "[[0.37376767]\n",
            " [0.45261769]\n",
            " [0.51301556]\n",
            " [0.60091504]\n",
            " [0.53022445]]\n",
            "\n",
            "Итоговый массив: \n",
            "[[ 0.48907093 -0.1148898   0.33533259 -0.08417963  0.2506319  -0.37072794\n",
            "  -0.24148592 -0.33625718  0.42635472 -0.35384966]\n",
            " [ 0.21522965 -0.40926346 -0.04784087 -0.10590875  0.3962143  -0.20435132\n",
            "   0.0410769  -0.30719914  0.37400714  0.04803555]\n",
            " [ 0.19336453 -0.24450285  0.20360587 -0.0438199  -0.44815311  0.20723622\n",
            "   0.31114854  0.04121708 -0.22396339  0.003867  ]\n",
            " [ 0.33222561 -0.28980353 -0.35822959 -0.34491137  0.25971374 -0.35807756\n",
            "   0.26691228  0.17357765  0.35272348 -0.03413072]\n",
            " [-0.10747379  0.21698481 -0.30437444  0.38837095 -0.13037755  0.28064151\n",
            "  -0.31441686 -0.46320513  0.32706899  0.10678152]]\n"
          ]
        }
      ],
      "source": [
        "import numpy as np\n",
        "\n",
        "z = np.random.rand(5, 10)\n",
        "average = np.mean(z, axis=1, keepdims=True)\n",
        "\n",
        "print(\"Исходный массив\\n\" + str(z))\n",
        "print(\"\\nСреднее арифметическое\\n\" + str(average) + \"\\n\")\n",
        "\n",
        "print(\"Итоговый массив: \\n\" + str(np.subtract(z, average)))"
      ]
    },
    {
      "cell_type": "markdown",
      "metadata": {
        "id": "OStor4mW3lpJ"
      },
      "source": [
        "5. Поменяйте 1 и 2 строки матрицы"
      ]
    },
    {
      "cell_type": "code",
      "execution_count": 24,
      "metadata": {
        "id": "5vfeHqyF3qKd",
        "outputId": "c0576d18-6409-4d0b-d639-75ad5b47bcac",
        "colab": {
          "base_uri": "https://localhost:8080/"
        }
      },
      "outputs": [
        {
          "output_type": "stream",
          "name": "stdout",
          "text": [
            "Исходное:\n",
            "[[ 0  1  2  3  4]\n",
            " [ 5  6  7  8  9]\n",
            " [10 11 12 13 14]\n",
            " [15 16 17 18 19]\n",
            " [20 21 22 23 24]]\n",
            "\n",
            "Итог:\n",
            "[[ 5  6  7  8  9]\n",
            " [ 0  1  2  3  4]\n",
            " [10 11 12 13 14]\n",
            " [15 16 17 18 19]\n",
            " [20 21 22 23 24]]\n"
          ]
        }
      ],
      "source": [
        "import numpy as np\n",
        "\n",
        "z = np.arange(25).reshape(5,5)\n",
        "print(\"Исходное:\\n\" + str(z))\n",
        "\n",
        "tmp = z[0][:].copy()\n",
        "z[0][:] = z[1][:]\n",
        "z[1][:] = tmp\n",
        "\n",
        "print(\"\\nИтог:\\n\" + str(z))"
      ]
    },
    {
      "cell_type": "code",
      "source": [],
      "metadata": {
        "id": "9_knAv3IyuD-"
      },
      "execution_count": null,
      "outputs": []
    },
    {
      "cell_type": "markdown",
      "metadata": {
        "id": "IPQ9xIIk3qml"
      },
      "source": [
        "6. Дан массив 10x2 подеставлющий собой точки в декартовой системе координат, преобразовать в полярную"
      ]
    },
    {
      "cell_type": "code",
      "execution_count": 27,
      "metadata": {
        "id": "zGHBaX8b30Uv",
        "outputId": "5bb5d55b-ccc2-4b28-fcf8-b7f0b92ab164",
        "colab": {
          "base_uri": "https://localhost:8080/"
        }
      },
      "outputs": [
        {
          "output_type": "stream",
          "name": "stdout",
          "text": [
            "Исходное:\n",
            " [[0.82314665 0.51114626]\n",
            " [0.57275242 0.98250739]\n",
            " [0.56417037 0.32366249]\n",
            " [0.08195694 0.5250819 ]\n",
            " [0.80088729 0.23215626]\n",
            " [0.14616462 0.39744587]\n",
            " [0.5982674  0.21655889]\n",
            " [0.71306698 0.66905744]\n",
            " [0.56185553 0.21265929]\n",
            " [0.19553328 0.69497263]]\n",
            "\n",
            "Результат (r, theta):\n",
            " [[0.96893803 0.55569335]\n",
            " [1.13726254 1.04300814]\n",
            " [0.65041957 0.520854  ]\n",
            " [0.5314395  1.41596153]\n",
            " [0.83385669 0.28214102]\n",
            " [0.42347056 1.21838828]\n",
            " [0.63625595 0.34730443]\n",
            " [0.97780487 0.75356697]\n",
            " [0.6007542  0.36183091]\n",
            " [0.72195583 1.29653257]]\n"
          ]
        }
      ],
      "source": [
        "import numpy as np\n",
        "import math\n",
        "\n",
        "z = np.random.random((10,2))\n",
        "res = z.copy()\n",
        "\n",
        "res[:, 0] = np.sqrt(np.square(z[:, 0]) + np.square(z[:, 1]))\n",
        "res[:, 1] = np.arctan2(z[:, 1], z[:, 0])\n",
        "\n",
        "print(\"Исходное:\\n\", z)\n",
        "print(\"\\nРезультат (r, theta):\\n\", res)\n",
        "\n",
        "# Ваш код здесь"
      ]
    },
    {
      "cell_type": "markdown",
      "metadata": {
        "id": "10gbuTgE4AOH"
      },
      "source": [
        "7. Заменить максимальный элемент массива на ноль"
      ]
    },
    {
      "cell_type": "code",
      "execution_count": 34,
      "metadata": {
        "id": "gqwuO2T_5Aqd",
        "outputId": "4139fd56-4b62-4b40-b912-92e2593fc75f",
        "colab": {
          "base_uri": "https://localhost:8080/"
        }
      },
      "outputs": [
        {
          "output_type": "stream",
          "name": "stdout",
          "text": [
            "Максимум: 0.9931724248645607\n",
            "\n",
            "Исходное:\n",
            " [0.77906135 0.82349758 0.2349426  0.68055953 0.57880554 0.46642701\n",
            " 0.53693252 0.29084453 0.36360933 0.99317242]\n",
            "\n",
            "Результат:\n",
            " [0.77906135 0.82349758 0.2349426  0.68055953 0.57880554 0.46642701\n",
            " 0.53693252 0.29084453 0.36360933 0.        ]\n"
          ]
        }
      ],
      "source": [
        "import numpy as np\n",
        "\n",
        "z = np.random.random(10)\n",
        "max = z.max()\n",
        "\n",
        "print(\"Максимум:\", max)\n",
        "print(\"\\nИсходное:\\n\", z)\n",
        "\n",
        "z[(np.where(z == max))] = 0\n",
        "\n",
        "print(\"\\nРезультат:\\n\", z)"
      ]
    },
    {
      "cell_type": "markdown",
      "metadata": {
        "id": "88m_eWXM6nZY"
      },
      "source": [
        "8. Дан массив, добавить 1 к каждому элементу с индексом, заданным в другом массиве. Добавление производиться только 1 раз"
      ]
    },
    {
      "cell_type": "code",
      "execution_count": 43,
      "metadata": {
        "id": "-5yj9k126pfh",
        "outputId": "6000d7d0-31ac-4a07-881e-159af854d8d1",
        "colab": {
          "base_uri": "https://localhost:8080/"
        }
      },
      "outputs": [
        {
          "output_type": "stream",
          "name": "stdout",
          "text": [
            "Первый массив:\n",
            " [1. 1. 1. 1. 1. 1. 1. 1. 1. 1.]\n",
            "\n",
            "Второй массив:\n",
            " [5 0 4 7 4 8 0 1 0 9 4 6 3 3 6 0 5 9 6 0]\n",
            "\n",
            "Результат:\n",
            " [2. 2. 1. 2. 2. 2. 2. 2. 2. 2.]\n"
          ]
        }
      ],
      "source": [
        "import numpy as np\n",
        "\n",
        "z = np.ones(10)\n",
        "i = np.random.randint(0,len(z),20)\n",
        "chk = \"\"\n",
        "\n",
        "print(\"Первый массив:\\n\", z)\n",
        "print(\"\\nВторой массив:\\n\", i)\n",
        "\n",
        "for char in i:\n",
        "  if str(char) in chk:\n",
        "    continue\n",
        "  else:\n",
        "    z[char] += 1\n",
        "    chk += str(char)\n",
        "\n",
        "print(\"\\nРезультат:\\n\", z)"
      ]
    },
    {
      "cell_type": "markdown",
      "metadata": {
        "id": "0HByAVK77JCG"
      },
      "source": [
        "9. Дан вектор [1, 2, 3, 4, 5], построить новый вектор с тремя нулями между каждым значением"
      ]
    },
    {
      "cell_type": "code",
      "execution_count": 60,
      "metadata": {
        "id": "2AiZt-J47dqq",
        "outputId": "23646412-09c3-424b-8125-9d1c5f54d525",
        "colab": {
          "base_uri": "https://localhost:8080/"
        }
      },
      "outputs": [
        {
          "output_type": "stream",
          "name": "stdout",
          "text": [
            "Исходное:\n",
            " [1 2 3 4 5]\n",
            "\n",
            "Результат:\n",
            " [1, 0, 0, 0, 2, 0, 0, 0, 3, 0, 0, 0, 4, 0, 0, 0, 5]\n"
          ]
        }
      ],
      "source": [
        "import numpy as np\n",
        "\n",
        "z = np.array([1,2,3,4,5])\n",
        "result = []\n",
        "\n",
        "for i in range(z.size - 1):\n",
        "    result.append(int(z[i]))\n",
        "    result.append(0)\n",
        "    result.append(0)\n",
        "    result.append(0)\n",
        "\n",
        "result.append(int(z[z.size-1]))\n",
        "\n",
        "arr = np.array(result)\n",
        "print(\"Исходное:\\n\", z)\n",
        "print(\"\\nРезультат:\\n\", result)"
      ]
    },
    {
      "cell_type": "markdown",
      "metadata": {
        "id": "i0uK-dO08AKP"
      },
      "source": [
        "10. Найти ближайшее к заданному значению число в заданном массиве"
      ]
    },
    {
      "cell_type": "code",
      "execution_count": 74,
      "metadata": {
        "id": "sE0DlZO_-4Cb",
        "outputId": "0b7bf2bf-0d41-4312-9f7d-3f4a1109bee2",
        "colab": {
          "base_uri": "https://localhost:8080/"
        }
      },
      "outputs": [
        {
          "output_type": "stream",
          "name": "stdout",
          "text": [
            "Массив:\n",
            " [ 0  1  2  3  4  5  6  7  8  9 10 11 12 13 14 15 16 17 18 19 20 21 22 23\n",
            " 24 25 26 27 28 29 30 31 32 33 34 35 36 37 38 39 40 41 42 43 44 45 46 47\n",
            " 48 49 50 51 52 53 54 55 56 57 58 59 60 61 62 63 64 65 66 67 68 69 70 71\n",
            " 72 73 74 75 76 77 78 79 80 81 82 83 84 85 86 87 88 89 90 91 92 93 94 95\n",
            " 96 97 98 99]\n",
            "Исходное число:\n",
            " 71.32939722967221\n",
            "71\n"
          ]
        }
      ],
      "source": [
        "import numpy as np\n",
        "\n",
        "z = np.arange(100)\n",
        "v = np.random.uniform(0,100)\n",
        "chk = v - int(v)\n",
        "\n",
        "print(\"Массив:\\n\", z)\n",
        "print(\"Исходное число:\\n\", v)\n",
        "\n",
        "print((z[int(v)], z[int(v) + 1])[chk > 0.5])"
      ]
    }
  ],
  "metadata": {
    "colab": {
      "provenance": []
    },
    "kernelspec": {
      "display_name": "Python 3",
      "name": "python3"
    },
    "language_info": {
      "codemirror_mode": {
        "name": "ipython",
        "version": 3
      },
      "file_extension": ".py",
      "mimetype": "text/x-python",
      "name": "python",
      "nbconvert_exporter": "python",
      "pygments_lexer": "ipython3",
      "version": "3.12.2"
    }
  },
  "nbformat": 4,
  "nbformat_minor": 0
}