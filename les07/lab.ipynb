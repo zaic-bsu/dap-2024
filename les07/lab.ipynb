{
  "cells": [
    {
      "cell_type": "markdown",
      "metadata": {
        "id": "8gYgWU34iV-h"
      },
      "source": [
        "# Лабораторная работа №7. Классификация"
      ]
    },
    {
      "cell_type": "markdown",
      "metadata": {
        "id": "Kv_riEdAiV-3"
      },
      "source": [
        "Выполните следующие задания:\n",
        "\n",
        "1. Откройте в файл в Google Colab (используйте собственный форк репозитория).\n",
        "2. Решите задачи.\n",
        "3. Сохраните результат в виде файла rep.ipynb в ваш репозиторий github в директорию ./les07\n",
        "4. Создайте pull request в репозиторий https://github.com/chebotarevsa/dap-2024. Название pull request должно иметь формат \"<Номер лабораторной работы>  <Номер группы> <ФИО>\"\n",
        "5. Сдайте работу в системе \"Пегас\", в отчет укажите ссылку на pull request"
      ]
    },
    {
      "cell_type": "markdown",
      "metadata": {
        "id": "5zyS5dROiV-4"
      },
      "source": [
        "Используя набор данных titanic.csv постройте модель предсказывающую выжил или погиб пассажир.\n",
        "1.\tPassengerId – Идентификатор пассажира (уникальный номер для каждого пассажира).\n",
        "2.\tSurvived – Выжил (0 – не выжил, 1 – выжил).\n",
        "3.\tPclass – Класс пассажира (1 – первый класс, 2 – второй класс, 3 – третий класс).\n",
        "4.\tName – Имя (полное имя пассажира).\n",
        "5.\tSex – Пол (male – мужчина, female – женщина).\n",
        "6.\tAge – Возраст (числовое значение, может быть дробным).\n",
        "7.\tSibSp – Количество родственников на борту (братьев, сестер или супругов).\n",
        "8.\tParch – Количество родителей или детей на борту.\n",
        "9.\tTicket – Номер билета.\n",
        "10.\tFare – Стоимость билета (в фунтах стерлингов).\n",
        "11.\tCabin – Номер каюты (может быть пропущен, если данные отсутствуют).\n",
        "12.\tEmbarked – Порт посадки (C – Cherbourg, Q – Queenstown, S – Southampton)."
      ]
    },
    {
      "cell_type": "code",
      "execution_count": 1,
      "metadata": {
        "id": "JVa6_UqziV-5",
        "outputId": "569d8e91-57a2-4a43-8858-8afe9aaac125",
        "colab": {
          "base_uri": "https://localhost:8080/"
        }
      },
      "outputs": [
        {
          "output_type": "stream",
          "name": "stdout",
          "text": [
            "Python version: 3.12.11 (main, Jun  4 2025, 08:56:18) [GCC 11.4.0]\n",
            "Numpy version: 2.0.2\n",
            "Pandas version: 2.2.2\n",
            "Matplotlib version: 3.10.0\n"
          ]
        }
      ],
      "source": [
        "import sys\n",
        "import matplotlib as mpl\n",
        "import matplotlib.pyplot as plt\n",
        "import numpy as np\n",
        "import pandas as pd\n",
        "\n",
        "print(f\"Python version: {sys.version}\")\n",
        "print(f\"Numpy version: {np.version.version}\")\n",
        "print(f\"Pandas version: {pd.__version__}\")\n",
        "print(f\"Matplotlib version: {mpl.__version__}\")"
      ]
    },
    {
      "cell_type": "markdown",
      "metadata": {
        "id": "dFw_cn52iV-7"
      },
      "source": [
        "## Извлечение данных"
      ]
    },
    {
      "cell_type": "markdown",
      "metadata": {
        "id": "119_xL82iV-8"
      },
      "source": [
        "1. Создайте DataFarame из файла titanic.csv, в качестве индекса используйте столбец \"PassengerId\"."
      ]
    },
    {
      "cell_type": "code",
      "execution_count": 2,
      "metadata": {
        "id": "Xl83bbtSiV-9",
        "outputId": "36890888-01d2-42a7-cb5c-f2df061677d4",
        "colab": {
          "base_uri": "https://localhost:8080/"
        }
      },
      "outputs": [
        {
          "output_type": "stream",
          "name": "stdout",
          "text": [
            "             Survived  Pclass  \\\n",
            "PassengerId                     \n",
            "1                   0       3   \n",
            "2                   1       1   \n",
            "3                   1       3   \n",
            "4                   1       1   \n",
            "5                   0       3   \n",
            "...               ...     ...   \n",
            "887                 0       2   \n",
            "888                 1       1   \n",
            "889                 0       3   \n",
            "890                 1       1   \n",
            "891                 0       3   \n",
            "\n",
            "                                                          Name     Sex   Age  \\\n",
            "PassengerId                                                                    \n",
            "1                                      Braund, Mr. Owen Harris    male  22.0   \n",
            "2            Cumings, Mrs. John Bradley (Florence Briggs Th...  female  38.0   \n",
            "3                                       Heikkinen, Miss. Laina  female  26.0   \n",
            "4                 Futrelle, Mrs. Jacques Heath (Lily May Peel)  female  35.0   \n",
            "5                                     Allen, Mr. William Henry    male  35.0   \n",
            "...                                                        ...     ...   ...   \n",
            "887                                      Montvila, Rev. Juozas    male  27.0   \n",
            "888                               Graham, Miss. Margaret Edith  female  19.0   \n",
            "889                   Johnston, Miss. Catherine Helen \"Carrie\"  female   NaN   \n",
            "890                                      Behr, Mr. Karl Howell    male  26.0   \n",
            "891                                        Dooley, Mr. Patrick    male  32.0   \n",
            "\n",
            "             SibSp  Parch            Ticket     Fare Cabin Embarked  \n",
            "PassengerId                                                          \n",
            "1                1      0         A/5 21171   7.2500   NaN        S  \n",
            "2                1      0          PC 17599  71.2833   C85        C  \n",
            "3                0      0  STON/O2. 3101282   7.9250   NaN        S  \n",
            "4                1      0            113803  53.1000  C123        S  \n",
            "5                0      0            373450   8.0500   NaN        S  \n",
            "...            ...    ...               ...      ...   ...      ...  \n",
            "887              0      0            211536  13.0000   NaN        S  \n",
            "888              0      0            112053  30.0000   B42        S  \n",
            "889              1      2        W./C. 6607  23.4500   NaN        S  \n",
            "890              0      0            111369  30.0000  C148        C  \n",
            "891              0      0            370376   7.7500   NaN        Q  \n",
            "\n",
            "[891 rows x 11 columns]\n"
          ]
        }
      ],
      "source": [
        "passengers = pd.read_csv( 'titanic.csv', index_col = 'PassengerId' )\n",
        "\n",
        "print(passengers)"
      ]
    },
    {
      "cell_type": "markdown",
      "metadata": {
        "id": "VgIpI4W2iV--"
      },
      "source": [
        "2. Выведете первые 7 строк набора."
      ]
    },
    {
      "cell_type": "code",
      "execution_count": 4,
      "metadata": {
        "id": "d6rJsym1iV-_",
        "outputId": "5d46756c-e34c-4b1f-82a7-e7e367e71a0f",
        "colab": {
          "base_uri": "https://localhost:8080/",
          "height": 352
        }
      },
      "outputs": [
        {
          "output_type": "execute_result",
          "data": {
            "text/plain": [
              "             Survived  Pclass  \\\n",
              "PassengerId                     \n",
              "1                   0       3   \n",
              "2                   1       1   \n",
              "3                   1       3   \n",
              "4                   1       1   \n",
              "5                   0       3   \n",
              "6                   0       3   \n",
              "7                   0       1   \n",
              "\n",
              "                                                          Name     Sex   Age  \\\n",
              "PassengerId                                                                    \n",
              "1                                      Braund, Mr. Owen Harris    male  22.0   \n",
              "2            Cumings, Mrs. John Bradley (Florence Briggs Th...  female  38.0   \n",
              "3                                       Heikkinen, Miss. Laina  female  26.0   \n",
              "4                 Futrelle, Mrs. Jacques Heath (Lily May Peel)  female  35.0   \n",
              "5                                     Allen, Mr. William Henry    male  35.0   \n",
              "6                                             Moran, Mr. James    male   NaN   \n",
              "7                                      McCarthy, Mr. Timothy J    male  54.0   \n",
              "\n",
              "             SibSp  Parch            Ticket     Fare Cabin Embarked  \n",
              "PassengerId                                                          \n",
              "1                1      0         A/5 21171   7.2500   NaN        S  \n",
              "2                1      0          PC 17599  71.2833   C85        C  \n",
              "3                0      0  STON/O2. 3101282   7.9250   NaN        S  \n",
              "4                1      0            113803  53.1000  C123        S  \n",
              "5                0      0            373450   8.0500   NaN        S  \n",
              "6                0      0            330877   8.4583   NaN        Q  \n",
              "7                0      0             17463  51.8625   E46        S  "
            ],
            "text/html": [
              "\n",
              "  <div id=\"df-acc9b595-31f1-4180-91b3-f756df46058f\" class=\"colab-df-container\">\n",
              "    <div>\n",
              "<style scoped>\n",
              "    .dataframe tbody tr th:only-of-type {\n",
              "        vertical-align: middle;\n",
              "    }\n",
              "\n",
              "    .dataframe tbody tr th {\n",
              "        vertical-align: top;\n",
              "    }\n",
              "\n",
              "    .dataframe thead th {\n",
              "        text-align: right;\n",
              "    }\n",
              "</style>\n",
              "<table border=\"1\" class=\"dataframe\">\n",
              "  <thead>\n",
              "    <tr style=\"text-align: right;\">\n",
              "      <th></th>\n",
              "      <th>Survived</th>\n",
              "      <th>Pclass</th>\n",
              "      <th>Name</th>\n",
              "      <th>Sex</th>\n",
              "      <th>Age</th>\n",
              "      <th>SibSp</th>\n",
              "      <th>Parch</th>\n",
              "      <th>Ticket</th>\n",
              "      <th>Fare</th>\n",
              "      <th>Cabin</th>\n",
              "      <th>Embarked</th>\n",
              "    </tr>\n",
              "    <tr>\n",
              "      <th>PassengerId</th>\n",
              "      <th></th>\n",
              "      <th></th>\n",
              "      <th></th>\n",
              "      <th></th>\n",
              "      <th></th>\n",
              "      <th></th>\n",
              "      <th></th>\n",
              "      <th></th>\n",
              "      <th></th>\n",
              "      <th></th>\n",
              "      <th></th>\n",
              "    </tr>\n",
              "  </thead>\n",
              "  <tbody>\n",
              "    <tr>\n",
              "      <th>1</th>\n",
              "      <td>0</td>\n",
              "      <td>3</td>\n",
              "      <td>Braund, Mr. Owen Harris</td>\n",
              "      <td>male</td>\n",
              "      <td>22.0</td>\n",
              "      <td>1</td>\n",
              "      <td>0</td>\n",
              "      <td>A/5 21171</td>\n",
              "      <td>7.2500</td>\n",
              "      <td>NaN</td>\n",
              "      <td>S</td>\n",
              "    </tr>\n",
              "    <tr>\n",
              "      <th>2</th>\n",
              "      <td>1</td>\n",
              "      <td>1</td>\n",
              "      <td>Cumings, Mrs. John Bradley (Florence Briggs Th...</td>\n",
              "      <td>female</td>\n",
              "      <td>38.0</td>\n",
              "      <td>1</td>\n",
              "      <td>0</td>\n",
              "      <td>PC 17599</td>\n",
              "      <td>71.2833</td>\n",
              "      <td>C85</td>\n",
              "      <td>C</td>\n",
              "    </tr>\n",
              "    <tr>\n",
              "      <th>3</th>\n",
              "      <td>1</td>\n",
              "      <td>3</td>\n",
              "      <td>Heikkinen, Miss. Laina</td>\n",
              "      <td>female</td>\n",
              "      <td>26.0</td>\n",
              "      <td>0</td>\n",
              "      <td>0</td>\n",
              "      <td>STON/O2. 3101282</td>\n",
              "      <td>7.9250</td>\n",
              "      <td>NaN</td>\n",
              "      <td>S</td>\n",
              "    </tr>\n",
              "    <tr>\n",
              "      <th>4</th>\n",
              "      <td>1</td>\n",
              "      <td>1</td>\n",
              "      <td>Futrelle, Mrs. Jacques Heath (Lily May Peel)</td>\n",
              "      <td>female</td>\n",
              "      <td>35.0</td>\n",
              "      <td>1</td>\n",
              "      <td>0</td>\n",
              "      <td>113803</td>\n",
              "      <td>53.1000</td>\n",
              "      <td>C123</td>\n",
              "      <td>S</td>\n",
              "    </tr>\n",
              "    <tr>\n",
              "      <th>5</th>\n",
              "      <td>0</td>\n",
              "      <td>3</td>\n",
              "      <td>Allen, Mr. William Henry</td>\n",
              "      <td>male</td>\n",
              "      <td>35.0</td>\n",
              "      <td>0</td>\n",
              "      <td>0</td>\n",
              "      <td>373450</td>\n",
              "      <td>8.0500</td>\n",
              "      <td>NaN</td>\n",
              "      <td>S</td>\n",
              "    </tr>\n",
              "    <tr>\n",
              "      <th>6</th>\n",
              "      <td>0</td>\n",
              "      <td>3</td>\n",
              "      <td>Moran, Mr. James</td>\n",
              "      <td>male</td>\n",
              "      <td>NaN</td>\n",
              "      <td>0</td>\n",
              "      <td>0</td>\n",
              "      <td>330877</td>\n",
              "      <td>8.4583</td>\n",
              "      <td>NaN</td>\n",
              "      <td>Q</td>\n",
              "    </tr>\n",
              "    <tr>\n",
              "      <th>7</th>\n",
              "      <td>0</td>\n",
              "      <td>1</td>\n",
              "      <td>McCarthy, Mr. Timothy J</td>\n",
              "      <td>male</td>\n",
              "      <td>54.0</td>\n",
              "      <td>0</td>\n",
              "      <td>0</td>\n",
              "      <td>17463</td>\n",
              "      <td>51.8625</td>\n",
              "      <td>E46</td>\n",
              "      <td>S</td>\n",
              "    </tr>\n",
              "  </tbody>\n",
              "</table>\n",
              "</div>\n",
              "    <div class=\"colab-df-buttons\">\n",
              "\n",
              "  <div class=\"colab-df-container\">\n",
              "    <button class=\"colab-df-convert\" onclick=\"convertToInteractive('df-acc9b595-31f1-4180-91b3-f756df46058f')\"\n",
              "            title=\"Convert this dataframe to an interactive table.\"\n",
              "            style=\"display:none;\">\n",
              "\n",
              "  <svg xmlns=\"http://www.w3.org/2000/svg\" height=\"24px\" viewBox=\"0 -960 960 960\">\n",
              "    <path d=\"M120-120v-720h720v720H120Zm60-500h600v-160H180v160Zm220 220h160v-160H400v160Zm0 220h160v-160H400v160ZM180-400h160v-160H180v160Zm440 0h160v-160H620v160ZM180-180h160v-160H180v160Zm440 0h160v-160H620v160Z\"/>\n",
              "  </svg>\n",
              "    </button>\n",
              "\n",
              "  <style>\n",
              "    .colab-df-container {\n",
              "      display:flex;\n",
              "      gap: 12px;\n",
              "    }\n",
              "\n",
              "    .colab-df-convert {\n",
              "      background-color: #E8F0FE;\n",
              "      border: none;\n",
              "      border-radius: 50%;\n",
              "      cursor: pointer;\n",
              "      display: none;\n",
              "      fill: #1967D2;\n",
              "      height: 32px;\n",
              "      padding: 0 0 0 0;\n",
              "      width: 32px;\n",
              "    }\n",
              "\n",
              "    .colab-df-convert:hover {\n",
              "      background-color: #E2EBFA;\n",
              "      box-shadow: 0px 1px 2px rgba(60, 64, 67, 0.3), 0px 1px 3px 1px rgba(60, 64, 67, 0.15);\n",
              "      fill: #174EA6;\n",
              "    }\n",
              "\n",
              "    .colab-df-buttons div {\n",
              "      margin-bottom: 4px;\n",
              "    }\n",
              "\n",
              "    [theme=dark] .colab-df-convert {\n",
              "      background-color: #3B4455;\n",
              "      fill: #D2E3FC;\n",
              "    }\n",
              "\n",
              "    [theme=dark] .colab-df-convert:hover {\n",
              "      background-color: #434B5C;\n",
              "      box-shadow: 0px 1px 3px 1px rgba(0, 0, 0, 0.15);\n",
              "      filter: drop-shadow(0px 1px 2px rgba(0, 0, 0, 0.3));\n",
              "      fill: #FFFFFF;\n",
              "    }\n",
              "  </style>\n",
              "\n",
              "    <script>\n",
              "      const buttonEl =\n",
              "        document.querySelector('#df-acc9b595-31f1-4180-91b3-f756df46058f button.colab-df-convert');\n",
              "      buttonEl.style.display =\n",
              "        google.colab.kernel.accessAllowed ? 'block' : 'none';\n",
              "\n",
              "      async function convertToInteractive(key) {\n",
              "        const element = document.querySelector('#df-acc9b595-31f1-4180-91b3-f756df46058f');\n",
              "        const dataTable =\n",
              "          await google.colab.kernel.invokeFunction('convertToInteractive',\n",
              "                                                    [key], {});\n",
              "        if (!dataTable) return;\n",
              "\n",
              "        const docLinkHtml = 'Like what you see? Visit the ' +\n",
              "          '<a target=\"_blank\" href=https://colab.research.google.com/notebooks/data_table.ipynb>data table notebook</a>'\n",
              "          + ' to learn more about interactive tables.';\n",
              "        element.innerHTML = '';\n",
              "        dataTable['output_type'] = 'display_data';\n",
              "        await google.colab.output.renderOutput(dataTable, element);\n",
              "        const docLink = document.createElement('div');\n",
              "        docLink.innerHTML = docLinkHtml;\n",
              "        element.appendChild(docLink);\n",
              "      }\n",
              "    </script>\n",
              "  </div>\n",
              "\n",
              "\n",
              "    <div id=\"df-e51d1838-1a3f-4e9b-911f-1a79a47e81ff\">\n",
              "      <button class=\"colab-df-quickchart\" onclick=\"quickchart('df-e51d1838-1a3f-4e9b-911f-1a79a47e81ff')\"\n",
              "                title=\"Suggest charts\"\n",
              "                style=\"display:none;\">\n",
              "\n",
              "<svg xmlns=\"http://www.w3.org/2000/svg\" height=\"24px\"viewBox=\"0 0 24 24\"\n",
              "     width=\"24px\">\n",
              "    <g>\n",
              "        <path d=\"M19 3H5c-1.1 0-2 .9-2 2v14c0 1.1.9 2 2 2h14c1.1 0 2-.9 2-2V5c0-1.1-.9-2-2-2zM9 17H7v-7h2v7zm4 0h-2V7h2v10zm4 0h-2v-4h2v4z\"/>\n",
              "    </g>\n",
              "</svg>\n",
              "      </button>\n",
              "\n",
              "<style>\n",
              "  .colab-df-quickchart {\n",
              "      --bg-color: #E8F0FE;\n",
              "      --fill-color: #1967D2;\n",
              "      --hover-bg-color: #E2EBFA;\n",
              "      --hover-fill-color: #174EA6;\n",
              "      --disabled-fill-color: #AAA;\n",
              "      --disabled-bg-color: #DDD;\n",
              "  }\n",
              "\n",
              "  [theme=dark] .colab-df-quickchart {\n",
              "      --bg-color: #3B4455;\n",
              "      --fill-color: #D2E3FC;\n",
              "      --hover-bg-color: #434B5C;\n",
              "      --hover-fill-color: #FFFFFF;\n",
              "      --disabled-bg-color: #3B4455;\n",
              "      --disabled-fill-color: #666;\n",
              "  }\n",
              "\n",
              "  .colab-df-quickchart {\n",
              "    background-color: var(--bg-color);\n",
              "    border: none;\n",
              "    border-radius: 50%;\n",
              "    cursor: pointer;\n",
              "    display: none;\n",
              "    fill: var(--fill-color);\n",
              "    height: 32px;\n",
              "    padding: 0;\n",
              "    width: 32px;\n",
              "  }\n",
              "\n",
              "  .colab-df-quickchart:hover {\n",
              "    background-color: var(--hover-bg-color);\n",
              "    box-shadow: 0 1px 2px rgba(60, 64, 67, 0.3), 0 1px 3px 1px rgba(60, 64, 67, 0.15);\n",
              "    fill: var(--button-hover-fill-color);\n",
              "  }\n",
              "\n",
              "  .colab-df-quickchart-complete:disabled,\n",
              "  .colab-df-quickchart-complete:disabled:hover {\n",
              "    background-color: var(--disabled-bg-color);\n",
              "    fill: var(--disabled-fill-color);\n",
              "    box-shadow: none;\n",
              "  }\n",
              "\n",
              "  .colab-df-spinner {\n",
              "    border: 2px solid var(--fill-color);\n",
              "    border-color: transparent;\n",
              "    border-bottom-color: var(--fill-color);\n",
              "    animation:\n",
              "      spin 1s steps(1) infinite;\n",
              "  }\n",
              "\n",
              "  @keyframes spin {\n",
              "    0% {\n",
              "      border-color: transparent;\n",
              "      border-bottom-color: var(--fill-color);\n",
              "      border-left-color: var(--fill-color);\n",
              "    }\n",
              "    20% {\n",
              "      border-color: transparent;\n",
              "      border-left-color: var(--fill-color);\n",
              "      border-top-color: var(--fill-color);\n",
              "    }\n",
              "    30% {\n",
              "      border-color: transparent;\n",
              "      border-left-color: var(--fill-color);\n",
              "      border-top-color: var(--fill-color);\n",
              "      border-right-color: var(--fill-color);\n",
              "    }\n",
              "    40% {\n",
              "      border-color: transparent;\n",
              "      border-right-color: var(--fill-color);\n",
              "      border-top-color: var(--fill-color);\n",
              "    }\n",
              "    60% {\n",
              "      border-color: transparent;\n",
              "      border-right-color: var(--fill-color);\n",
              "    }\n",
              "    80% {\n",
              "      border-color: transparent;\n",
              "      border-right-color: var(--fill-color);\n",
              "      border-bottom-color: var(--fill-color);\n",
              "    }\n",
              "    90% {\n",
              "      border-color: transparent;\n",
              "      border-bottom-color: var(--fill-color);\n",
              "    }\n",
              "  }\n",
              "</style>\n",
              "\n",
              "      <script>\n",
              "        async function quickchart(key) {\n",
              "          const quickchartButtonEl =\n",
              "            document.querySelector('#' + key + ' button');\n",
              "          quickchartButtonEl.disabled = true;  // To prevent multiple clicks.\n",
              "          quickchartButtonEl.classList.add('colab-df-spinner');\n",
              "          try {\n",
              "            const charts = await google.colab.kernel.invokeFunction(\n",
              "                'suggestCharts', [key], {});\n",
              "          } catch (error) {\n",
              "            console.error('Error during call to suggestCharts:', error);\n",
              "          }\n",
              "          quickchartButtonEl.classList.remove('colab-df-spinner');\n",
              "          quickchartButtonEl.classList.add('colab-df-quickchart-complete');\n",
              "        }\n",
              "        (() => {\n",
              "          let quickchartButtonEl =\n",
              "            document.querySelector('#df-e51d1838-1a3f-4e9b-911f-1a79a47e81ff button');\n",
              "          quickchartButtonEl.style.display =\n",
              "            google.colab.kernel.accessAllowed ? 'block' : 'none';\n",
              "        })();\n",
              "      </script>\n",
              "    </div>\n",
              "    </div>\n",
              "  </div>\n"
            ],
            "application/vnd.google.colaboratory.intrinsic+json": {
              "type": "dataframe",
              "variable_name": "passengers",
              "summary": "{\n  \"name\": \"passengers\",\n  \"rows\": 891,\n  \"fields\": [\n    {\n      \"column\": \"PassengerId\",\n      \"properties\": {\n        \"dtype\": \"number\",\n        \"std\": 257,\n        \"min\": 1,\n        \"max\": 891,\n        \"num_unique_values\": 891,\n        \"samples\": [\n          710,\n          440,\n          841\n        ],\n        \"semantic_type\": \"\",\n        \"description\": \"\"\n      }\n    },\n    {\n      \"column\": \"Survived\",\n      \"properties\": {\n        \"dtype\": \"number\",\n        \"std\": 0,\n        \"min\": 0,\n        \"max\": 1,\n        \"num_unique_values\": 2,\n        \"samples\": [\n          1,\n          0\n        ],\n        \"semantic_type\": \"\",\n        \"description\": \"\"\n      }\n    },\n    {\n      \"column\": \"Pclass\",\n      \"properties\": {\n        \"dtype\": \"number\",\n        \"std\": 0,\n        \"min\": 1,\n        \"max\": 3,\n        \"num_unique_values\": 3,\n        \"samples\": [\n          3,\n          1\n        ],\n        \"semantic_type\": \"\",\n        \"description\": \"\"\n      }\n    },\n    {\n      \"column\": \"Name\",\n      \"properties\": {\n        \"dtype\": \"string\",\n        \"num_unique_values\": 891,\n        \"samples\": [\n          \"Moubarek, Master. Halim Gonios (\\\"William George\\\")\",\n          \"Kvillner, Mr. Johan Henrik Johannesson\"\n        ],\n        \"semantic_type\": \"\",\n        \"description\": \"\"\n      }\n    },\n    {\n      \"column\": \"Sex\",\n      \"properties\": {\n        \"dtype\": \"category\",\n        \"num_unique_values\": 2,\n        \"samples\": [\n          \"female\",\n          \"male\"\n        ],\n        \"semantic_type\": \"\",\n        \"description\": \"\"\n      }\n    },\n    {\n      \"column\": \"Age\",\n      \"properties\": {\n        \"dtype\": \"number\",\n        \"std\": 14.526497332334044,\n        \"min\": 0.42,\n        \"max\": 80.0,\n        \"num_unique_values\": 88,\n        \"samples\": [\n          0.75,\n          22.0\n        ],\n        \"semantic_type\": \"\",\n        \"description\": \"\"\n      }\n    },\n    {\n      \"column\": \"SibSp\",\n      \"properties\": {\n        \"dtype\": \"number\",\n        \"std\": 1,\n        \"min\": 0,\n        \"max\": 8,\n        \"num_unique_values\": 7,\n        \"samples\": [\n          1,\n          0\n        ],\n        \"semantic_type\": \"\",\n        \"description\": \"\"\n      }\n    },\n    {\n      \"column\": \"Parch\",\n      \"properties\": {\n        \"dtype\": \"number\",\n        \"std\": 0,\n        \"min\": 0,\n        \"max\": 6,\n        \"num_unique_values\": 7,\n        \"samples\": [\n          0,\n          1\n        ],\n        \"semantic_type\": \"\",\n        \"description\": \"\"\n      }\n    },\n    {\n      \"column\": \"Ticket\",\n      \"properties\": {\n        \"dtype\": \"string\",\n        \"num_unique_values\": 681,\n        \"samples\": [\n          \"11774\",\n          \"248740\"\n        ],\n        \"semantic_type\": \"\",\n        \"description\": \"\"\n      }\n    },\n    {\n      \"column\": \"Fare\",\n      \"properties\": {\n        \"dtype\": \"number\",\n        \"std\": 49.693428597180905,\n        \"min\": 0.0,\n        \"max\": 512.3292,\n        \"num_unique_values\": 248,\n        \"samples\": [\n          11.2417,\n          51.8625\n        ],\n        \"semantic_type\": \"\",\n        \"description\": \"\"\n      }\n    },\n    {\n      \"column\": \"Cabin\",\n      \"properties\": {\n        \"dtype\": \"category\",\n        \"num_unique_values\": 147,\n        \"samples\": [\n          \"D45\",\n          \"B49\"\n        ],\n        \"semantic_type\": \"\",\n        \"description\": \"\"\n      }\n    },\n    {\n      \"column\": \"Embarked\",\n      \"properties\": {\n        \"dtype\": \"category\",\n        \"num_unique_values\": 3,\n        \"samples\": [\n          \"S\",\n          \"C\"\n        ],\n        \"semantic_type\": \"\",\n        \"description\": \"\"\n      }\n    }\n  ]\n}"
            }
          },
          "metadata": {},
          "execution_count": 4
        }
      ],
      "source": [
        "passengers.head(7)"
      ]
    },
    {
      "cell_type": "markdown",
      "metadata": {
        "id": "Pk-Css4GiV-_"
      },
      "source": [
        "### Подготовка данных"
      ]
    },
    {
      "cell_type": "markdown",
      "metadata": {
        "id": "JOGwFgyQiV_A"
      },
      "source": [
        "3. Выведете информацию о типах данных в наборе. Имеются ли в наборе не числовые признаки? Имеются ли в наборе данные имеющие значение null?\n",
        "    "
      ]
    },
    {
      "cell_type": "code",
      "execution_count": 5,
      "metadata": {
        "id": "kH3S5A1diV_B",
        "outputId": "5e5d13fd-1a40-4a39-84d5-f1fecabd440e",
        "colab": {
          "base_uri": "https://localhost:8080/"
        }
      },
      "outputs": [
        {
          "output_type": "stream",
          "name": "stdout",
          "text": [
            "<class 'pandas.core.frame.DataFrame'>\n",
            "Index: 891 entries, 1 to 891\n",
            "Data columns (total 11 columns):\n",
            " #   Column    Non-Null Count  Dtype  \n",
            "---  ------    --------------  -----  \n",
            " 0   Survived  891 non-null    int64  \n",
            " 1   Pclass    891 non-null    int64  \n",
            " 2   Name      891 non-null    object \n",
            " 3   Sex       891 non-null    object \n",
            " 4   Age       714 non-null    float64\n",
            " 5   SibSp     891 non-null    int64  \n",
            " 6   Parch     891 non-null    int64  \n",
            " 7   Ticket    891 non-null    object \n",
            " 8   Fare      891 non-null    float64\n",
            " 9   Cabin     204 non-null    object \n",
            " 10  Embarked  889 non-null    object \n",
            "dtypes: float64(2), int64(4), object(5)\n",
            "memory usage: 83.5+ KB\n",
            "None\n"
          ]
        }
      ],
      "source": [
        "# 1) Информация о типах данных и ненулевых значениях\n",
        "print(passengers.info())"
      ]
    },
    {
      "cell_type": "markdown",
      "metadata": {
        "id": "ajoKU-GniV_B"
      },
      "source": [
        "4. Удалите не числовые признаки, которые по вашему мнению, не могут влиять на заначение выжил или погиб пассажир."
      ]
    },
    {
      "cell_type": "code",
      "execution_count": 6,
      "metadata": {
        "id": "DtjKSKLAiV_C",
        "outputId": "3d256b81-9b22-402e-e360-47478cf5d195",
        "colab": {
          "base_uri": "https://localhost:8080/"
        }
      },
      "outputs": [
        {
          "output_type": "stream",
          "name": "stdout",
          "text": [
            "             Survived  Pclass     Sex   Age  SibSp  Parch     Fare Embarked\n",
            "PassengerId                                                                \n",
            "1                   0       3    male  22.0      1      0   7.2500        S\n",
            "2                   1       1  female  38.0      1      0  71.2833        C\n",
            "3                   1       3  female  26.0      0      0   7.9250        S\n",
            "4                   1       1  female  35.0      1      0  53.1000        S\n",
            "5                   0       3    male  35.0      0      0   8.0500        S\n",
            "6                   0       3    male   NaN      0      0   8.4583        Q\n",
            "7                   0       1    male  54.0      0      0  51.8625        S\n"
          ]
        }
      ],
      "source": [
        "df_cleaned = passengers.drop(columns=['Name', 'Ticket', 'Cabin'])\n",
        "\n",
        "print(df_cleaned.head(7))"
      ]
    },
    {
      "cell_type": "markdown",
      "metadata": {
        "id": "fCwvxwZXiV_C"
      },
      "source": [
        "5. Вместо признака \"Sex\" (я надеюсь вы его не удалили 😂) Создайте два новых признака male и female которые содержат значения 0 или 1."
      ]
    },
    {
      "cell_type": "code",
      "execution_count": 8,
      "metadata": {
        "id": "yfuFnx9riV_C",
        "outputId": "abb7028a-9ccf-4553-c447-5277d6971250",
        "colab": {
          "base_uri": "https://localhost:8080/"
        }
      },
      "outputs": [
        {
          "output_type": "stream",
          "name": "stdout",
          "text": [
            "             Survived  Pclass   Age  SibSp  Parch     Fare Embarked  female  \\\n",
            "PassengerId                                                                   \n",
            "1                   0       3  22.0      1      0   7.2500        S   False   \n",
            "2                   1       1  38.0      1      0  71.2833        C    True   \n",
            "3                   1       3  26.0      0      0   7.9250        S    True   \n",
            "4                   1       1  35.0      1      0  53.1000        S    True   \n",
            "5                   0       3  35.0      0      0   8.0500        S   False   \n",
            "6                   0       3   NaN      0      0   8.4583        Q   False   \n",
            "7                   0       1  54.0      0      0  51.8625        S   False   \n",
            "\n",
            "              male  \n",
            "PassengerId         \n",
            "1             True  \n",
            "2            False  \n",
            "3            False  \n",
            "4            False  \n",
            "5             True  \n",
            "6             True  \n",
            "7             True  \n"
          ]
        }
      ],
      "source": [
        "# One-hot кодирование для признака 'Sex'\n",
        "sex_dummies = pd.get_dummies(df_cleaned['Sex'])\n",
        "\n",
        "# Объединяем новые столбцы с исходным DataFrame и удаляем исходный 'Sex'\n",
        "df_cleaned = pd.concat([df_cleaned.drop(columns=['Sex']), sex_dummies], axis=1)\n",
        "\n",
        "# Проверяем результат\n",
        "print(df_cleaned.head(7))"
      ]
    },
    {
      "cell_type": "markdown",
      "metadata": {
        "id": "nhDaR3BaiV_C"
      },
      "source": [
        "6. Удалите строки, которые содержать хотя бы одно null значение."
      ]
    },
    {
      "cell_type": "code",
      "execution_count": 9,
      "metadata": {
        "id": "sI_sni1HiV_C",
        "outputId": "e0e1785d-0750-470b-f4b9-3fc2092e7411",
        "colab": {
          "base_uri": "https://localhost:8080/"
        }
      },
      "outputs": [
        {
          "output_type": "stream",
          "name": "stdout",
          "text": [
            "             Survived  Pclass   Age  SibSp  Parch     Fare Embarked  female  \\\n",
            "PassengerId                                                                   \n",
            "1                   0       3  22.0      1      0   7.2500        S   False   \n",
            "2                   1       1  38.0      1      0  71.2833        C    True   \n",
            "3                   1       3  26.0      0      0   7.9250        S    True   \n",
            "4                   1       1  35.0      1      0  53.1000        S    True   \n",
            "5                   0       3  35.0      0      0   8.0500        S   False   \n",
            "7                   0       1  54.0      0      0  51.8625        S   False   \n",
            "8                   0       3   2.0      3      1  21.0750        S   False   \n",
            "\n",
            "              male  \n",
            "PassengerId         \n",
            "1             True  \n",
            "2            False  \n",
            "3            False  \n",
            "4            False  \n",
            "5             True  \n",
            "7             True  \n",
            "8             True  \n"
          ]
        }
      ],
      "source": [
        "# Удаляем строки с хотя бы одним null\n",
        "df_cleaned = df_cleaned.dropna()\n",
        "\n",
        "# Проверяем результат\n",
        "print(df_cleaned.head(7))"
      ]
    },
    {
      "cell_type": "markdown",
      "metadata": {
        "id": "6srMlIriiV_F"
      },
      "source": [
        "## Исследование данных"
      ]
    },
    {
      "cell_type": "markdown",
      "metadata": {
        "id": "eDEnqQhUiV_F"
      },
      "source": [
        "4. Нормализуйте значения признака \"Fare\"."
      ]
    },
    {
      "cell_type": "code",
      "execution_count": 10,
      "metadata": {
        "id": "B3NEXqBxiV_F",
        "outputId": "e5e03ee0-d0d4-4f22-8d91-5063c63e1dbe",
        "colab": {
          "base_uri": "https://localhost:8080/"
        }
      },
      "outputs": [
        {
          "output_type": "stream",
          "name": "stdout",
          "text": [
            "             Survived  Pclass   Age  SibSp  Parch      Fare Embarked  female  \\\n",
            "PassengerId                                                                    \n",
            "1                   0       3  22.0      1      0  0.014151        S   False   \n",
            "2                   1       1  38.0      1      0  0.139136        C    True   \n",
            "3                   1       3  26.0      0      0  0.015469        S    True   \n",
            "4                   1       1  35.0      1      0  0.103644        S    True   \n",
            "5                   0       3  35.0      0      0  0.015713        S   False   \n",
            "7                   0       1  54.0      0      0  0.101229        S   False   \n",
            "8                   0       3   2.0      3      1  0.041136        S   False   \n",
            "\n",
            "              male  \n",
            "PassengerId         \n",
            "1             True  \n",
            "2            False  \n",
            "3            False  \n",
            "4            False  \n",
            "5             True  \n",
            "7             True  \n",
            "8             True  \n"
          ]
        }
      ],
      "source": [
        "# Нормализация признака 'Fare' (значения от 0 до 1)\n",
        "df_cleaned['Fare'] = (df_cleaned['Fare'] - df_cleaned['Fare'].min()) / (df_cleaned['Fare'].max() - df_cleaned['Fare'].min())\n",
        "\n",
        "# Проверяем результат\n",
        "print(df_cleaned.head(7))"
      ]
    },
    {
      "cell_type": "markdown",
      "metadata": {
        "id": "Djnl_uuAiV_F"
      },
      "source": [
        "5. Найдите разницу между средними значениями признака \"Fare\" для погибших и выживших пассажиров."
      ]
    },
    {
      "cell_type": "code",
      "execution_count": 11,
      "metadata": {
        "id": "5jRxb6h9iV_G",
        "outputId": "3a40ae63-b9e7-4ddb-e158-9ed8d46b5cfb",
        "colab": {
          "base_uri": "https://localhost:8080/"
        }
      },
      "outputs": [
        {
          "output_type": "stream",
          "name": "stdout",
          "text": [
            "Средний Fare (погибшие): 0.04482558551791412\n",
            "Средний Fare (выжившие): 0.100809541745815\n",
            "Разница: 0.05598395622790087\n"
          ]
        }
      ],
      "source": [
        "# Среднее значение Fare для погибших и выживших\n",
        "fare_dead = df_cleaned[df_cleaned['Survived'] == 0]['Fare'].mean()\n",
        "fare_survived = df_cleaned[df_cleaned['Survived'] == 1]['Fare'].mean()\n",
        "\n",
        "# Разница\n",
        "diff = fare_survived - fare_dead\n",
        "\n",
        "print(\"Средний Fare (погибшие):\", fare_dead)\n",
        "print(\"Средний Fare (выжившие):\", fare_survived)\n",
        "print(\"Разница:\", diff)"
      ]
    },
    {
      "cell_type": "markdown",
      "metadata": {
        "id": "Oh0emshGiV_H"
      },
      "source": [
        "6. Простройте на одной оси координат гистограмы значений признака \"Fare\" для погибших и выживших пассажиров."
      ]
    },
    {
      "cell_type": "code",
      "execution_count": 16,
      "metadata": {
        "id": "P_gQ1YT1iV_H",
        "outputId": "a4276f5c-36f1-4fe1-8691-f15fab83ab4c",
        "colab": {
          "base_uri": "https://localhost:8080/",
          "height": 472
        }
      },
      "outputs": [
        {
          "output_type": "display_data",
          "data": {
            "text/plain": [
              "<Figure size 640x480 with 1 Axes>"
            ],
            "image/png": "[encoded data removed]"
          },
          "metadata": {}
        }
      ],
      "source": [
        "plt.hist(fare_dead, bins=30, alpha=0.5, label='Погибшие')\n",
        "plt.hist(fare_survived, bins=30, alpha=0.5, label='Выжившие')\n",
        "\n",
        "plt.xlabel('Fare')\n",
        "plt.ylabel('Количество пассажиров')\n",
        "plt.title('Гистограммы распределения Fare для погибших и выживших')\n",
        "plt.legend()\n",
        "plt.show()"
      ]
    },
    {
      "cell_type": "markdown",
      "metadata": {
        "id": "0gn4p6lpiV_I"
      },
      "source": [
        "7. Сформируйте набор признаков (X). Сформируйте вектор целевых значений (y)."
      ]
    },
    {
      "cell_type": "code",
      "execution_count": 17,
      "metadata": {
        "id": "BuUlv_rfiV_I",
        "outputId": "5187a8fa-9577-44e5-cfd9-e0b61a82c2b9",
        "colab": {
          "base_uri": "https://localhost:8080/"
        }
      },
      "outputs": [
        {
          "output_type": "stream",
          "name": "stdout",
          "text": [
            "Матрица признаков (X):\n",
            "             Pclass   Age  SibSp  Parch      Fare Embarked  female   male\n",
            "PassengerId                                                              \n",
            "1                 3  22.0      1      0  0.014151        S   False   True\n",
            "2                 1  38.0      1      0  0.139136        C    True  False\n",
            "3                 3  26.0      0      0  0.015469        S    True  False\n",
            "4                 1  35.0      1      0  0.103644        S    True  False\n",
            "5                 3  35.0      0      0  0.015713        S   False   True \n",
            "\n",
            "Вектор целевых значений (y):\n",
            "PassengerId\n",
            "1    0\n",
            "2    1\n",
            "3    1\n",
            "4    1\n",
            "5    0\n",
            "Name: Survived, dtype: int64\n"
          ]
        }
      ],
      "source": [
        "# Формируем X и y\n",
        "X = df_cleaned.drop(columns=['Survived'])\n",
        "y = df_cleaned['Survived']\n",
        "\n",
        "print(\"Матрица признаков (X):\")\n",
        "print(X.head(), \"\\n\")\n",
        "print(\"Вектор целевых значений (y):\")\n",
        "print(y.head())"
      ]
    },
    {
      "cell_type": "markdown",
      "metadata": {
        "id": "clZJ5BvsiV_I"
      },
      "source": [
        "## Предсказательная модель"
      ]
    },
    {
      "cell_type": "markdown",
      "metadata": {
        "id": "2mThP4otiV_I"
      },
      "source": [
        "8. Разделите набор данных на два, одни для обучения модели другой для проверки. Тестовый набор должен содержать 25 процентов данных."
      ]
    },
    {
      "cell_type": "code",
      "execution_count": 25,
      "metadata": {
        "id": "cDwc4Lm3iV_J",
        "outputId": "1b737e30-2e45-4b97-fccd-82140a4e4af3",
        "colab": {
          "base_uri": "https://localhost:8080/"
        }
      },
      "outputs": [
        {
          "output_type": "stream",
          "name": "stdout",
          "text": [
            "Размер обучающей выборки: 534\n",
            "Размер тестовой выборки: 178\n"
          ]
        }
      ],
      "source": [
        "from sklearn.model_selection import train_test_split\n",
        "\n",
        "# Разделяем данные: 75% обучение, 25% тест\n",
        "X_train, X_test, y_train, y_test = train_test_split(\n",
        "    X, y, test_size=0.25, random_state=42\n",
        ")\n",
        "\n",
        "print(\"Размер обучающей выборки:\", X_train.shape[0])\n",
        "print(\"Размер тестовой выборки:\", X_test.shape[0])"
      ]
    },
    {
      "cell_type": "markdown",
      "metadata": {
        "id": "1En7KNF6iV_J"
      },
      "source": [
        "9. Выполните обучение модели."
      ]
    },
    {
      "cell_type": "code",
      "execution_count": 30,
      "metadata": {
        "id": "iGZQtdqziV_J",
        "outputId": "646361e9-e860-42b2-da8f-321a2a99ebe8",
        "colab": {
          "base_uri": "https://localhost:8080/"
        }
      },
      "outputs": [
        {
          "output_type": "stream",
          "name": "stdout",
          "text": [
            "Модель обучена успешно!\n"
          ]
        }
      ],
      "source": [
        "from sklearn.model_selection import train_test_split\n",
        "from sklearn.linear_model import LogisticRegression\n",
        "\n",
        "df = pd.read_csv('titanic.csv', index_col='PassengerId')\n",
        "df = df.drop(columns=['Name', 'Ticket', 'Cabin'])\n",
        "\n",
        "# One-hot кодирование 'Sex'\n",
        "sex_dummies = pd.get_dummies(df['Sex'])\n",
        "\n",
        "# One-hot кодирование 'Embarked' БЕЗ КОДИРОВАНИЯ EMBARKED БУДЕТ ОШИБКА!!!\n",
        "embarked_dummies = pd.get_dummies(df['Embarked'], prefix='Embarked')\n",
        "\n",
        "df = pd.concat([df.drop(columns=['Sex', 'Embarked']), sex_dummies, embarked_dummies], axis=1)\n",
        "\n",
        "# Удаляем строки с пропусками\n",
        "df = df.dropna()\n",
        "\n",
        "X = df.drop(columns=['Survived'])\n",
        "y = df['Survived']\n",
        "\n",
        "X_train, X_test, y_train, y_test = train_test_split(X, y, test_size=0.25, random_state=42)\n",
        "\n",
        "model = LogisticRegression(max_iter=1000)\n",
        "model.fit(X_train, y_train)\n",
        "\n",
        "print(\"Модель обучена успешно!\")"
      ]
    },
    {
      "cell_type": "markdown",
      "metadata": {
        "id": "g9tJ89HZiV_J"
      },
      "source": [
        "## Проверка модели"
      ]
    },
    {
      "cell_type": "markdown",
      "metadata": {
        "id": "PVgxHWxWiV_J"
      },
      "source": [
        "10. Выведите мартицу ошибок"
      ]
    },
    {
      "cell_type": "code",
      "execution_count": 31,
      "metadata": {
        "id": "WsD4SMZyiV_J",
        "outputId": "79b385ce-d2fa-4365-a36b-b9a113c00c15",
        "colab": {
          "base_uri": "https://localhost:8080/"
        }
      },
      "outputs": [
        {
          "output_type": "stream",
          "name": "stdout",
          "text": [
            "Матрица ошибок:\n",
            " [[90 17]\n",
            " [26 46]]\n"
          ]
        }
      ],
      "source": [
        "from sklearn.metrics import confusion_matrix\n",
        "\n",
        "# Предсказания на тестовом наборе\n",
        "y_pred = model.predict(X_test)\n",
        "\n",
        "# Матрица ошибок\n",
        "cm = confusion_matrix(y_test, y_pred)\n",
        "print(\"Матрица ошибок:\\n\", cm)"
      ]
    },
    {
      "cell_type": "markdown",
      "metadata": {
        "id": "n4F0DW6HiV_J"
      },
      "source": [
        "11. Расчитайте accuracy"
      ]
    },
    {
      "cell_type": "code",
      "execution_count": 32,
      "metadata": {
        "id": "MN9vkaFLiV_K",
        "outputId": "15c9eeaf-d276-481a-dc8a-0fd59cd8e442",
        "colab": {
          "base_uri": "https://localhost:8080/"
        }
      },
      "outputs": [
        {
          "output_type": "stream",
          "name": "stdout",
          "text": [
            "Точность модели: 0.7597765363128491\n"
          ]
        }
      ],
      "source": [
        "from sklearn.metrics import accuracy_score\n",
        "\n",
        "accuracy = accuracy_score(y_test, y_pred)\n",
        "print(\"Точность модели:\", accuracy)"
      ]
    },
    {
      "cell_type": "markdown",
      "metadata": {
        "id": "H42RwU7ViV_K"
      },
      "source": [
        "12. Сделайте вывод о полученном результате"
      ]
    },
    {
      "cell_type": "markdown",
      "metadata": {
        "id": "zKVLoNKMiV_K"
      },
      "source": [
        "Вывод: В ходе работы с датасетом Titanic данные были очищены и подготовлены: удалены ненужные текстовые признаки, закодированы категориальные признаки и нормализован числовой признак Fare. Данные были разделены на обучающую и тестовую выборки, после чего обучена модель логистической регрессии. Анализ распределения Fare показал, что выжившие пассажиры в среднем платили больше, чем погибшие. Проверка модели с помощью матрицы ошибок показала, что она способна корректно предсказывать выживание, что позволяет использовать её для дальнейшего анализа и улучшения предсказаний."
      ]
    },
    {
      "cell_type": "markdown",
      "metadata": {
        "id": "qb5GcEvEiV_Q"
      },
      "source": [
        "## Вопросы для защиты"
      ]
    },
    {
      "cell_type": "markdown",
      "metadata": {
        "id": "j-8qFib0iV_R"
      },
      "source": [
        "1. Сформулируйте задачу классификации.\n",
        "2. Перечислите типы классификации.\n",
        "3. В чем особенность несбалансированной классификации?\n",
        "4. В чем особенность мультиклассовой классификации?\n",
        "5. В чем особенность бинарной классификации?\n",
        "6. В чем особенность классификации по нескольким меткам?\n",
        "7. Чем стратегия \"Один против всех\" отличается от стратегии \"Один против одного\"?\n",
        "8. Что такое матрица ошибок (несоответствий)?\n",
        "9. Как рассчитывается Accuracy?\n",
        "10. Объясните алгоритм классификации K-ближайших соседей."
      ]
    }
  ],
  "metadata": {
    "kernelspec": {
      "display_name": "Python 3",
      "language": "python",
      "name": "python3"
    },
    "language_info": {
      "codemirror_mode": {
        "name": "ipython",
        "version": 3
      },
      "file_extension": ".py",
      "mimetype": "text/x-python",
      "name": "python",
      "nbconvert_exporter": "python",
      "pygments_lexer": "ipython3",
      "version": "3.12.2"
    },
    "colab": {
      "provenance": []
    }
  },
  "nbformat": 4,
  "nbformat_minor": 0
}