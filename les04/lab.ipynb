{
  "cells": [
    {
      "cell_type": "markdown",
      "metadata": {
        "id": "x6bvn6SY8bGw"
      },
      "source": [
        "# Лабораторная работа №4.\n",
        "# Анализ данных пассажиров \"Титаника\"\n",
        "\n",
        "Гибель Титаника – одно из самых печально известных кораблекрушений в истории.\n",
        "\n",
        "15 апреля 1912 года во время своего первого плавания считавшийся «непотопляемым» «Титаник» затонул после столкновения с айсбергом.\n",
        "К сожалению, спасательных шлюпок для всех находившихся на борту не хватило, в результате чего погибли 1502 из 2224 пассажиров и членов экипажа.\n",
        "\n",
        "Используя набор данных titanic.csv выполните следующие 10 заданий."
      ]
    },
    {
      "cell_type": "code",
      "execution_count": null,
      "metadata": {
        "id": "loQ3aNBl8bGw"
      },
      "outputs": [],
      "source": [
        "import numpy as np\n",
        "import pandas as pd\n"
      ]
    },
    {
      "cell_type": "markdown",
      "metadata": {
        "id": "D6KdHmec8bGx"
      },
      "source": [
        "1. Создайте DataFarame из файла titanic.csv, в качестве индекса используйте столбец \"PassengerId\""
      ]
    },
    {
      "cell_type": "code",
      "execution_count": 16,
      "metadata": {
        "id": "ZXFMnUUd8bGx",
        "outputId": "002c8f35-a11d-43d8-a6f6-44add8b50b5b",
        "colab": {
          "base_uri": "https://localhost:8080/"
        }
      },
      "outputs": [
        {
          "output_type": "stream",
          "name": "stdout",
          "text": [
            "             Survived  Pclass  \\\n",
            "PassengerId                     \n",
            "1                   0       3   \n",
            "2                   1       1   \n",
            "3                   1       3   \n",
            "4                   1       1   \n",
            "5                   0       3   \n",
            "...               ...     ...   \n",
            "887                 0       2   \n",
            "888                 1       1   \n",
            "889                 0       3   \n",
            "890                 1       1   \n",
            "891                 0       3   \n",
            "\n",
            "                                                          Name     Sex   Age  \\\n",
            "PassengerId                                                                    \n",
            "1                                      Braund, Mr. Owen Harris    male  22.0   \n",
            "2            Cumings, Mrs. John Bradley (Florence Briggs Th...  female  38.0   \n",
            "3                                       Heikkinen, Miss. Laina  female  26.0   \n",
            "4                 Futrelle, Mrs. Jacques Heath (Lily May Peel)  female  35.0   \n",
            "5                                     Allen, Mr. William Henry    male  35.0   \n",
            "...                                                        ...     ...   ...   \n",
            "887                                      Montvila, Rev. Juozas    male  27.0   \n",
            "888                               Graham, Miss. Margaret Edith  female  19.0   \n",
            "889                   Johnston, Miss. Catherine Helen \"Carrie\"  female   NaN   \n",
            "890                                      Behr, Mr. Karl Howell    male  26.0   \n",
            "891                                        Dooley, Mr. Patrick    male  32.0   \n",
            "\n",
            "             SibSp  Parch            Ticket     Fare Cabin Embarked  \n",
            "PassengerId                                                          \n",
            "1                1      0         A/5 21171   7.2500   NaN        S  \n",
            "2                1      0          PC 17599  71.2833   C85        C  \n",
            "3                0      0  STON/O2. 3101282   7.9250   NaN        S  \n",
            "4                1      0            113803  53.1000  C123        S  \n",
            "5                0      0            373450   8.0500   NaN        S  \n",
            "...            ...    ...               ...      ...   ...      ...  \n",
            "887              0      0            211536  13.0000   NaN        S  \n",
            "888              0      0            112053  30.0000   B42        S  \n",
            "889              1      2        W./C. 6607  23.4500   NaN        S  \n",
            "890              0      0            111369  30.0000  C148        C  \n",
            "891              0      0            370376   7.7500   NaN        Q  \n",
            "\n",
            "[891 rows x 11 columns]\n"
          ]
        }
      ],
      "source": [
        "import numpy as np\n",
        "import pandas as pd\n",
        "\n",
        "passengers = pd.read_csv( 'titanic.csv', index_col = 'PassengerId' )\n",
        "\n",
        "print(passengers)"
      ]
    },
    {
      "cell_type": "markdown",
      "metadata": {
        "id": "qYjgo0PD8bGx"
      },
      "source": [
        "2. Просмотрите первые 6 строк"
      ]
    },
    {
      "cell_type": "code",
      "execution_count": 52,
      "metadata": {
        "id": "c9O9LaBW8bGx",
        "outputId": "684ed37a-fa5b-4bb9-9771-effed20195f9",
        "colab": {
          "base_uri": "https://localhost:8080/"
        }
      },
      "outputs": [
        {
          "output_type": "stream",
          "name": "stdout",
          "text": [
            "             Survived  Pclass  \\\n",
            "PassengerId                     \n",
            "1                   0       3   \n",
            "2                   1       1   \n",
            "3                   1       3   \n",
            "4                   1       1   \n",
            "5                   0       3   \n",
            "6                   0       3   \n",
            "\n",
            "                                                          Name     Sex   Age  \\\n",
            "PassengerId                                                                    \n",
            "1                                      Braund, Mr. Owen Harris    male  22.0   \n",
            "2            Cumings, Mrs. John Bradley (Florence Briggs Th...  female  38.0   \n",
            "3                                       Heikkinen, Miss. Laina  female  26.0   \n",
            "4                 Futrelle, Mrs. Jacques Heath (Lily May Peel)  female  35.0   \n",
            "5                                     Allen, Mr. William Henry    male  35.0   \n",
            "6                                             Moran, Mr. James    male   NaN   \n",
            "\n",
            "             SibSp  Parch            Ticket     Fare Cabin Embarked  \n",
            "PassengerId                                                          \n",
            "1                1      0         A/5 21171   7.2500   NaN        S  \n",
            "2                1      0          PC 17599  71.2833   C85        C  \n",
            "3                0      0  STON/O2. 3101282   7.9250   NaN        S  \n",
            "4                1      0            113803  53.1000  C123        S  \n",
            "5                0      0            373450   8.0500   NaN        S  \n",
            "6                0      0            330877   8.4583   NaN        Q  \n"
          ]
        }
      ],
      "source": [
        "print(passengers.iloc[0:6])"
      ]
    },
    {
      "cell_type": "markdown",
      "metadata": {
        "id": "C-3pfk9-8bGx"
      },
      "source": [
        "3. Выведите описание данных"
      ]
    },
    {
      "cell_type": "code",
      "execution_count": 53,
      "metadata": {
        "id": "ZIJKxyzG8bGx",
        "outputId": "8a75b1ef-0e20-467a-dad4-c5fac135b451",
        "colab": {
          "base_uri": "https://localhost:8080/"
        }
      },
      "outputs": [
        {
          "output_type": "stream",
          "name": "stdout",
          "text": [
            "Shape: (891, 11)\n",
            "\n",
            "Dtypes:\n",
            " Survived      int64\n",
            "Pclass        int64\n",
            "Name         object\n",
            "Sex          object\n",
            "Age         float64\n",
            "SibSp         int64\n",
            "Parch         int64\n",
            "Ticket       object\n",
            "Fare        float64\n",
            "Cabin        object\n",
            "Embarked     object\n",
            "dtype: object\n",
            "\n",
            "Missing values:\n",
            " Survived      0\n",
            "Pclass        0\n",
            "Name          0\n",
            "Sex           0\n",
            "Age         177\n",
            "SibSp         0\n",
            "Parch         0\n",
            "Ticket        0\n",
            "Fare          0\n",
            "Cabin       687\n",
            "Embarked      2\n",
            "dtype: int64\n",
            "\n",
            "Numeric description:\n",
            "          Survived      Pclass         Age       SibSp       Parch        Fare\n",
            "count  891.000000  891.000000  714.000000  891.000000  891.000000  891.000000\n",
            "mean     0.383838    2.308642   29.699118    0.523008    0.381594   32.204208\n",
            "std      0.486592    0.836071   14.526497    1.102743    0.806057   49.693429\n",
            "min      0.000000    1.000000    0.420000    0.000000    0.000000    0.000000\n",
            "25%      0.000000    2.000000   20.125000    0.000000    0.000000    7.910400\n",
            "50%      0.000000    3.000000   28.000000    0.000000    0.000000   14.454200\n",
            "75%      1.000000    3.000000   38.000000    1.000000    0.000000   31.000000\n",
            "max      1.000000    3.000000   80.000000    8.000000    6.000000  512.329200\n",
            "\n",
            "Categorical description:\n",
            "                        Name   Sex  Ticket Cabin Embarked\n",
            "count                   891   891     891   204      889\n",
            "unique                  891     2     681   147        3\n",
            "top     Dooley, Mr. Patrick  male  347082    G6        S\n",
            "freq                      1   577       7     4      644\n",
            "\n",
            "Top values for 'Survived':\n",
            " Survived\n",
            "0    549\n",
            "1    342\n",
            "Name: count, dtype: int64\n",
            "\n",
            "Sample rows:\n",
            "              Survived  Pclass  \\\n",
            "PassengerId                     \n",
            "1                   0       3   \n",
            "2                   1       1   \n",
            "3                   1       3   \n",
            "4                   1       1   \n",
            "5                   0       3   \n",
            "\n",
            "                                                          Name     Sex   Age  \\\n",
            "PassengerId                                                                    \n",
            "1                                      Braund, Mr. Owen Harris    male  22.0   \n",
            "2            Cumings, Mrs. John Bradley (Florence Briggs Th...  female  38.0   \n",
            "3                                       Heikkinen, Miss. Laina  female  26.0   \n",
            "4                 Futrelle, Mrs. Jacques Heath (Lily May Peel)  female  35.0   \n",
            "5                                     Allen, Mr. William Henry    male  35.0   \n",
            "\n",
            "             SibSp  Parch            Ticket     Fare Cabin Embarked  \n",
            "PassengerId                                                          \n",
            "1                1      0         A/5 21171   7.2500   NaN        S  \n",
            "2                1      0          PC 17599  71.2833   C85        C  \n",
            "3                0      0  STON/O2. 3101282   7.9250   NaN        S  \n",
            "4                1      0            113803  53.1000  C123        S  \n",
            "5                0      0            373450   8.0500   NaN        S  \n",
            "\n",
            "Duplicate rows: 0\n"
          ]
        }
      ],
      "source": [
        "# print(passengers.describe())\n",
        "# print(passengers.info())\n",
        "\n",
        "print(\"Shape:\", passengers.shape)\n",
        "print(\"\\nDtypes:\\n\", passengers.dtypes)\n",
        "print(\"\\nMissing values:\\n\", passengers.isna().sum())\n",
        "print(\"\\nNumeric description:\\n\", passengers.describe())\n",
        "print(\"\\nCategorical description:\\n\", passengers.describe(include=['object','category']))\n",
        "print(\"\\nTop values for 'Survived':\\n\", passengers['Survived'].value_counts())\n",
        "print(\"\\nSample rows:\\n\", passengers.head())\n",
        "print(\"\\nDuplicate rows:\", passengers.duplicated().sum())\n"
      ]
    },
    {
      "cell_type": "markdown",
      "metadata": {
        "id": "w167IumW8bGy"
      },
      "source": [
        "4. Сколько мужчин / женщин находилось на борту?"
      ]
    },
    {
      "cell_type": "code",
      "execution_count": 54,
      "metadata": {
        "id": "rlppRtvg8bGy",
        "outputId": "5bf85a0c-52a4-4dc9-81a3-b076b13c93e8",
        "colab": {
          "base_uri": "https://localhost:8080/",
          "height": 178
        }
      },
      "outputs": [
        {
          "output_type": "execute_result",
          "data": {
            "text/plain": [
              "Sex\n",
              "male      577\n",
              "female    314\n",
              "Name: count, dtype: int64"
            ],
            "text/html": [
              "<div>\n",
              "<style scoped>\n",
              "    .dataframe tbody tr th:only-of-type {\n",
              "        vertical-align: middle;\n",
              "    }\n",
              "\n",
              "    .dataframe tbody tr th {\n",
              "        vertical-align: top;\n",
              "    }\n",
              "\n",
              "    .dataframe thead th {\n",
              "        text-align: right;\n",
              "    }\n",
              "</style>\n",
              "<table border=\"1\" class=\"dataframe\">\n",
              "  <thead>\n",
              "    <tr style=\"text-align: right;\">\n",
              "      <th></th>\n",
              "      <th>count</th>\n",
              "    </tr>\n",
              "    <tr>\n",
              "      <th>Sex</th>\n",
              "      <th></th>\n",
              "    </tr>\n",
              "  </thead>\n",
              "  <tbody>\n",
              "    <tr>\n",
              "      <th>male</th>\n",
              "      <td>577</td>\n",
              "    </tr>\n",
              "    <tr>\n",
              "      <th>female</th>\n",
              "      <td>314</td>\n",
              "    </tr>\n",
              "  </tbody>\n",
              "</table>\n",
              "</div><br><label><b>dtype:</b> int64</label>"
            ]
          },
          "metadata": {},
          "execution_count": 54
        }
      ],
      "source": [
        "passengers.loc[:, 'Sex'].value_counts()"
      ]
    },
    {
      "cell_type": "markdown",
      "metadata": {
        "id": "xK_TQJrc8bGy"
      },
      "source": [
        "4. Выведите распределение переменной **Pclass** (социально-экономический статус) и это же распределение, только для мужчин / женщин по отдельности. Сколько было мужчин 2-го класса"
      ]
    },
    {
      "cell_type": "code",
      "execution_count": 55,
      "metadata": {
        "id": "7HCZ2VjH8bGy",
        "outputId": "c0c1b225-6515-4639-8b59-d723b998d36a",
        "colab": {
          "base_uri": "https://localhost:8080/",
          "height": 304
        }
      },
      "outputs": [
        {
          "output_type": "execute_result",
          "data": {
            "text/plain": [
              "Sex     Pclass\n",
              "female  1          94\n",
              "        2          76\n",
              "        3         144\n",
              "male    1         122\n",
              "        2         108\n",
              "        3         347\n",
              "Name: count, dtype: int64"
            ],
            "text/html": [
              "<div>\n",
              "<style scoped>\n",
              "    .dataframe tbody tr th:only-of-type {\n",
              "        vertical-align: middle;\n",
              "    }\n",
              "\n",
              "    .dataframe tbody tr th {\n",
              "        vertical-align: top;\n",
              "    }\n",
              "\n",
              "    .dataframe thead th {\n",
              "        text-align: right;\n",
              "    }\n",
              "</style>\n",
              "<table border=\"1\" class=\"dataframe\">\n",
              "  <thead>\n",
              "    <tr style=\"text-align: right;\">\n",
              "      <th></th>\n",
              "      <th></th>\n",
              "      <th>count</th>\n",
              "    </tr>\n",
              "    <tr>\n",
              "      <th>Sex</th>\n",
              "      <th>Pclass</th>\n",
              "      <th></th>\n",
              "    </tr>\n",
              "  </thead>\n",
              "  <tbody>\n",
              "    <tr>\n",
              "      <th rowspan=\"3\" valign=\"top\">female</th>\n",
              "      <th>1</th>\n",
              "      <td>94</td>\n",
              "    </tr>\n",
              "    <tr>\n",
              "      <th>2</th>\n",
              "      <td>76</td>\n",
              "    </tr>\n",
              "    <tr>\n",
              "      <th>3</th>\n",
              "      <td>144</td>\n",
              "    </tr>\n",
              "    <tr>\n",
              "      <th rowspan=\"3\" valign=\"top\">male</th>\n",
              "      <th>1</th>\n",
              "      <td>122</td>\n",
              "    </tr>\n",
              "    <tr>\n",
              "      <th>2</th>\n",
              "      <td>108</td>\n",
              "    </tr>\n",
              "    <tr>\n",
              "      <th>3</th>\n",
              "      <td>347</td>\n",
              "    </tr>\n",
              "  </tbody>\n",
              "</table>\n",
              "</div><br><label><b>dtype:</b> int64</label>"
            ]
          },
          "metadata": {},
          "execution_count": 55
        }
      ],
      "source": [
        "# passengers.loc[:, 'Pclass'].value_counts().sort_index() # распределение переменной Pclass\n",
        "\n",
        "passengers.loc[:, ['Sex','Pclass']].value_counts().sort_index() # распределение переменной мужчин / женщин"
      ]
    },
    {
      "cell_type": "markdown",
      "metadata": {
        "id": "Wo4uR48r8bGy"
      },
      "source": [
        "5. Каковы медиана и среднеквадрати́чное отклонение платежей (Fare)? Округлите до 2 десятичных знаков."
      ]
    },
    {
      "cell_type": "code",
      "execution_count": 57,
      "metadata": {
        "id": "FMGVLHJN8bGy",
        "outputId": "348454fb-2698-4da6-985e-efcc5ebcce4d",
        "colab": {
          "base_uri": "https://localhost:8080/"
        }
      },
      "outputs": [
        {
          "output_type": "stream",
          "name": "stdout",
          "text": [
            "Медиана 14.4542\n",
            "Среднеквадратичное отклонение 49.693428597180905\n"
          ]
        }
      ],
      "source": [
        "print(\"Медиана\", passengers['Fare'].median())\n",
        "print(\"Среднеквадратичное отклонение\", passengers['Fare'].std())"
      ]
    },
    {
      "cell_type": "markdown",
      "metadata": {
        "id": "vrPsh78H8bGy"
      },
      "source": [
        "6. Правда ли, что люди моложе 30 лет выживали чаще, чем люди старше 60 лет? Каковы доли выживших в обеих группах?"
      ]
    },
    {
      "cell_type": "code",
      "execution_count": 63,
      "metadata": {
        "id": "JJv-8x1h8bGy",
        "outputId": "de86dd71-2275-40d2-ab7d-2f7a31558393",
        "colab": {
          "base_uri": "https://localhost:8080/"
        }
      },
      "outputs": [
        {
          "output_type": "stream",
          "name": "stdout",
          "text": [
            "Молодые (Age<30): 384 , доля выживания: 40.625 %\n",
            "Пожилые (Age>60): 22 , доля выживания: 22.727272727272727 %\n"
          ]
        }
      ],
      "source": [
        "young = passengers[passengers['Age'] < 30]\n",
        "old = passengers[passengers['Age'] > 60]\n",
        "\n",
        "young_survived_rate = young['Survived'].mean()\n",
        "old_survived_rate = old['Survived'].mean()\n",
        "\n",
        "print(\"Молодые (Age<30):\", young.shape[0], \", доля выживания:\", young_survived_rate*100, \"%\")\n",
        "print(\"Пожилые (Age>60):\", old.shape[0], \", доля выживания:\", old_survived_rate*100, \"%\")"
      ]
    },
    {
      "cell_type": "markdown",
      "metadata": {
        "id": "Df-6KRpP8bGy"
      },
      "source": [
        "7. Правда ли, что женщины выживали чаще мужчин? Каковы доли выживших в обеих группах?"
      ]
    },
    {
      "cell_type": "code",
      "execution_count": 72,
      "metadata": {
        "id": "DG6Jn2Br8bGy",
        "outputId": "abd9bf22-20ba-485d-8e6e-5a52f7d2f79f",
        "colab": {
          "base_uri": "https://localhost:8080/"
        }
      },
      "outputs": [
        {
          "output_type": "stream",
          "name": "stdout",
          "text": [
            "        survived  total  survival_rate\n",
            "Sex                                   \n",
            "female       233    314       0.742038\n",
            "male         109    577       0.188908\n"
          ]
        }
      ],
      "source": [
        "# passengers.loc[:, ['Sex','Survived']].value_counts()\n",
        "\n",
        "# passengers.groupby('Sex')['Survived'].mean()\n",
        "\n",
        "counts = passengers.groupby('Sex')['Survived'].agg(['sum','count']).rename(columns={'sum':'survived','count':'total'})\n",
        "counts['survival_rate'] = counts['survived'] / counts['total']\n",
        "\n",
        "print(counts)"
      ]
    },
    {
      "cell_type": "markdown",
      "metadata": {
        "id": "zXK2F4EM8bGy"
      },
      "source": [
        "8.  Найдите самое популярное имя среди пассажиров Титаника мужского пола?"
      ]
    },
    {
      "cell_type": "code",
      "execution_count": 97,
      "metadata": {
        "id": "PJMfl1_U8bGz",
        "outputId": "d0ecd242-6166-4030-b786-fba98f3e1b5a",
        "colab": {
          "base_uri": "https://localhost:8080/"
        }
      },
      "outputs": [
        {
          "output_type": "stream",
          "name": "stdout",
          "text": [
            "Name\n",
            "William    35\n",
            "Name: count, dtype: int64\n"
          ]
        }
      ],
      "source": [
        "import re\n",
        "\n",
        "men = passengers[passengers['Sex']=='male']['Name'].dropna()\n",
        "\n",
        "def first_name(full):\n",
        "    # взять часть после запятой, убрать обращение (до точки) и скобки, затем первое слово\n",
        "    s = re.sub(r'$.*?$', '', full.split(',',1)[1])      # часть после фамилии, убрать скобки\n",
        "    s = re.sub(r'^\\s*\\w+\\.\\s*', '', s)                   # убрать Title. (например \"Mr.\")\n",
        "    return s.split()[0]\n",
        "\n",
        "names = men.map(first_name)\n",
        "print(names.value_counts().nlargest(1))\n"
      ]
    },
    {
      "cell_type": "markdown",
      "metadata": {
        "id": "Aq4vrBY28bGz"
      },
      "source": [
        "\n",
        "\n",
        "9. Как отличается средний возраст мужчин / женщин в зависимости от класса обслуживания?\n",
        "Выберите верные утверждения:\n",
        "\n",
        "    1) В среднем мужчины 1-го класса старше 40 лет\n",
        "    2) В среднем женщины 1-го класса старше 40 лет\n",
        "    3) Мужчины всех классов в среднем старше женщин того же класса\n",
        "    4) В среднем люди в 1 классе старше, чем во 2-ом, а те старше представителей 3-го класса\n",
        "\n"
      ]
    },
    {
      "cell_type": "code",
      "execution_count": 94,
      "metadata": {
        "id": "p-WvB_Et8bGz",
        "outputId": "5c4f1f8f-f69f-44ee-9a35-f4b77212501b",
        "colab": {
          "base_uri": "https://localhost:8080/"
        }
      },
      "outputs": [
        {
          "output_type": "stream",
          "name": "stdout",
          "text": [
            "Мужчины 1-го класса старше 40? True\n",
            "Женщины 1-го класса > 40? False\n",
            "В среднем мужчины всех классов старше женщин того же класса? True\n",
            "В классе 1: мужчины старше чем женщины? True\n",
            "В классе 2: мужчины старше чем женщины? True\n",
            "В классе 3: мужчины старше чем женщины? True\n",
            "Возраст 1>2>3: True\n",
            "Pclass\n",
            "1    38.233441\n",
            "2    29.877630\n",
            "3    25.140620\n",
            "Name: Age, dtype: float64\n"
          ]
        }
      ],
      "source": [
        "m = passengers.groupby(['Pclass','Sex'])['Age'].mean()\n",
        "\n",
        "print(\"Мужчины 1-го класса старше 40?\", m.loc[(1,'male')] > 40)\n",
        "\n",
        "print(\"Женщины 1-го класса > 40?\", m.loc[(1,'female')] > 40)\n",
        "\n",
        "conds = []\n",
        "for cls in [1,2,3]:\n",
        "    conds.append(m.loc[(cls,'male')] > m.loc[(cls,'female')])\n",
        "print(\"В среднем мужчины всех классов старше женщин того же класса?\", all(conds))\n",
        "for cls, res in zip([1,2,3], conds):\n",
        "    print(f\"В классе {cls}: мужчины старше чем женщины? {res}\")\n",
        "\n",
        "avg_by_class = passengers.groupby('Pclass')['Age'].mean()\n",
        "print(\"Возраст 1>2>3:\", (avg_by_class.loc[1] > avg_by_class.loc[2]) and (avg_by_class.loc[2] > avg_by_class.loc[3]))\n",
        "print(avg_by_class)"
      ]
    },
    {
      "cell_type": "markdown",
      "metadata": {
        "id": "9d2NjiRd8bGz"
      },
      "source": [
        "10. Сравните возраст у спасенных и у погибших пасажиров. Средний возраст погибших выше, верно?"
      ]
    },
    {
      "cell_type": "code",
      "execution_count": 96,
      "metadata": {
        "id": "y4XA2ird8bGz",
        "outputId": "41183918-52cc-46c1-e3f0-c43f774fd170",
        "colab": {
          "base_uri": "https://localhost:8080/"
        }
      },
      "outputs": [
        {
          "output_type": "stream",
          "name": "stdout",
          "text": [
            "Survived\n",
            "0    30.626179\n",
            "1    28.343690\n",
            "Name: Age, dtype: float64\n",
            "Мёртвых > Выживших ? True\n",
            "Мёртвых: 30.63, Живых: 28.34\n"
          ]
        }
      ],
      "source": [
        "df = passengers.dropna(subset=['Age','Survived'])\n",
        "\n",
        "# средний возраст по статусу выживания (0 = погиб, 1 = выжил)\n",
        "mean_by_survived = df.groupby('Survived')['Age'].mean()\n",
        "print(mean_by_survived)\n",
        "\n",
        "# проверить утверждение \"средний возраст погибших выше\"\n",
        "dead_mean = mean_by_survived.loc[0]\n",
        "alive_mean = mean_by_survived.loc[1]\n",
        "print(\"Мёртвых > Выживших ?\", dead_mean > alive_mean)\n",
        "print(f\"Мёртвых: {dead_mean:.2f}, Живых: {alive_mean:.2f}\")\n"
      ]
    },
    {
      "cell_type": "markdown",
      "metadata": {
        "id": "Uo16AAAU8bGz"
      },
      "source": [
        "### Дополнительные вопросы для защиты\n",
        "\n",
        "1. Что такое медиана? Рассчитать медиану для предложенного ряда чисел.\n",
        "2. Что такое дисперсия? Рассчитать дисперсию для предложенного ряда чисел.\n",
        "3. Что такое среднеквадратичное отклонение? Рассчитать среднеквадратичное отклонение для предложенного ряда чисел.\n",
        "4. Что такое Series и чем он отличается от DataFrame\n",
        "5. Можно ли изменить индекс в Series после создания объекта?\n",
        "6. Можно ли выполнить операцию сложения над двумя объектами Series, если они имеют:\n",
        "- одинаковые типы данных, одинаковые размеры и одинаковые индексы?\n",
        "- одинаковые типы данных, одинаковые размеры, но разные индексы?,  \n",
        "- одинаковые типы данных, разные размеры и одинаковые индексы?\n",
        "- разные типы данных, одинаковые размеры и одинаковые индексы?\n",
        "- разные типы данных, одинаковые размеры и разные индексы?\n",
        "- разные типы данных, разные размеры и разные индексы?\n",
        "7. Что такое DataFrame и чем он отличается от Series\n",
        "8. Что необходимо сделать, чтобы число строк в DateFrame при его просмотре, по умолчанию составляло 8?\n",
        "9. Чем отличается метод iloc от метода loс\n",
        "10. Можно ли добавить в DateFrame дополнительный Series?\n",
        "11. Требуются ли установка дополнительных библиотек для загрузки с помощью pandas файлов в формате CSV? Excel (.xls)? Json?"
      ]
    }
  ],
  "metadata": {
    "kernelspec": {
      "display_name": "Python 3",
      "language": "python",
      "name": "python3"
    },
    "language_info": {
      "codemirror_mode": {
        "name": "ipython",
        "version": 3
      },
      "file_extension": ".py",
      "mimetype": "text/x-python",
      "name": "python",
      "nbconvert_exporter": "python",
      "pygments_lexer": "ipython3",
      "version": "3.12.2"
    },
    "colab": {
      "provenance": []
    }
  },
  "nbformat": 4,
  "nbformat_minor": 0
}