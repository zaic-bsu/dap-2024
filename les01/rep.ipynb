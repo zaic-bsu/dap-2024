{
  "nbformat": 4,
  "nbformat_minor": 0,
  "metadata": {
    "colab": {
      "provenance": [],
      "authorship_tag": "ABX9TyPvKnljo0zhkK5ITAktnFlB"
    },
    "kernelspec": {
      "name": "python3",
      "display_name": "Python 3"
    },
    "language_info": {
      "name": "python"
    }
  },
  "cells": [
    {
      "cell_type": "markdown",
      "source": [
        "# Отчёт по Лабораторной работе №1  \n",
        "## Подготовка среды для анализа данных  \n",
        "\n",
        "### Задание  \n",
        "В рамках лабораторной работы было выполнено:  \n",
        "\n",
        "1. Создали учетную запись в сервисе **GitHub**;  \n",
        "2. Выполнили форк репозитория: [https://github.com/chebotarevsa/dap-2024](https://github.com/chebotarevsa/dap-2024);  \n",
        "3. Создали учетную запись в **Google Colab**;  \n",
        "4. Настроили интеграцию *Google Colab* и *GitHub*;  \n",
        "5. Создали в Google Colab отчет о выполненной работе в виде файла `rep.ipynb`.  \n",
        "   - Использовали **Markdown** разметку;  \n",
        "   - Добавили заголовки, списки, ссылки, выделение текста;  \n",
        "6. Сохранили отчет в свой репозиторий GitHub в директории `./les01`;  \n",
        "7. Создали *pull request* в репозиторий: [https://github.com/chebotarevsa/dap-2024](https://github.com/chebotarevsa/dap-2024);  \n",
        "   - Название pull request имеет формат:  \n",
        "     ```\n",
        "     <Номер лабораторной работы> <Номер группы> <ФИО>\n",
        "     ```  \n",
        "8. Сдали работу в системе *Пегас*, в отчете указали ссылку на pull request.  \n",
        "---"
      ],
      "metadata": {
        "id": "EX90BpbjSsGD"
      }
    }
  ]
}