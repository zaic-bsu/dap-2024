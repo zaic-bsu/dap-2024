{
  "cells": [
    {
      "cell_type": "markdown",
      "metadata": {
        "id": "uv00ZVXGWZZC"
      },
      "source": [
        "# Отчёт по лабораторной работе №2. Основы Python"
      ]
    },
    {
      "cell_type": "markdown",
      "metadata": {
        "id": "VsypxkQ5WZZD"
      },
      "source": [
        "## Задание"
      ]
    },
    {
      "cell_type": "markdown",
      "metadata": {
        "id": "CKKfZ1GqWZZD"
      },
      "source": [
        "Выполнили следующие задания:\n",
        "\n",
        "1. Открыли файл в Google Colab (используйте собственный форк репозитория).\n",
        "2. Решили задачи.\n",
        "3. Сохранили результат в ваш репозиторий github в директорию ./les02\n",
        "4. Создали pull request в репозиторий https://github.com/chebotarevsa/dap-2024. Назвали pull request согласно формату: \"<Номер лабораторной работы>  <Номер группы> <ФИО>\"\n",
        "5. Подкрепили работу в системе \"Пегас\", в отчет указали ссылку на pull request"
      ]
    },
    {
      "cell_type": "markdown",
      "metadata": {
        "id": "gRhRHdNwWZZE"
      },
      "source": [
        "Задача №1. https://leetcode.com/problems/two-sum/"
      ]
    },
    {
      "cell_type": "code",
      "execution_count": 1,
      "metadata": {
        "id": "h506ZQOhWZZE"
      },
      "outputs": [],
      "source": [
        "class Solution1(object):\n",
        "    def twoSum(self, nums, target):\n",
        "        \"\"\"\n",
        "        :type nums: List[int]\n",
        "        :type target: int\n",
        "        :rtype: List[int]\n",
        "        \"\"\"\n",
        "        # Ваше решение\n",
        "\n",
        "class Solution(object):\n",
        "    def twoSum(self, nums, target):\n",
        "        for i in range(len(nums)):\n",
        "            for j in range(i + 1, len(nums)):\n",
        "                if nums[j] == target - nums[i]:\n",
        "                    return [i, j]"
      ]
    },
    {
      "cell_type": "markdown",
      "metadata": {
        "id": "gNNa8kqDWZZE"
      },
      "source": [
        "Задача №2. https://leetcode.com/problems/palindrome-number/description/"
      ]
    },
    {
      "cell_type": "code",
      "execution_count": 2,
      "metadata": {
        "id": "cbqJQaiLWZZE"
      },
      "outputs": [],
      "source": [
        "class Solution2(object):\n",
        "    def isPalindrome(self, x):\n",
        "        \"\"\"\n",
        "        :type x: int\n",
        "        :rtype: bool\n",
        "        \"\"\"\n",
        "\n",
        "class Solution(object):\n",
        "  def isPalindrome(self, x):\n",
        "    if x < 0:\n",
        "      return False\n",
        "    y=str(x)\n",
        "    rev = ''.join(reversed(y))\n",
        "    if rev == y:\n",
        "      return True\n",
        "    else:\n",
        "      return False"
      ]
    },
    {
      "cell_type": "markdown",
      "metadata": {
        "id": "8XTVT3VHWZZE"
      },
      "source": [
        "Задача №3. https://leetcode.com/problems/roman-to-integer/description/"
      ]
    },
    {
      "cell_type": "code",
      "execution_count": 3,
      "metadata": {
        "id": "bwEuI05VWZZF"
      },
      "outputs": [],
      "source": [
        "class Solution3(object):\n",
        "    def romanToInt(self, s):\n",
        "        \"\"\"\n",
        "        :type s: str\n",
        "        :rtype: int\n",
        "        \"\"\"\n",
        "\n",
        "class Solution(object):\n",
        "    def romanToInt(self, s):\n",
        "        roman_map = {\n",
        "            'I': 1,\n",
        "            'V': 5,\n",
        "            'X': 10,\n",
        "            'L': 50,\n",
        "            'C': 100,\n",
        "            'D': 500,\n",
        "            'M': 1000\n",
        "        }\n",
        "        total = 0\n",
        "        for i in range(len(s) - 1):\n",
        "            if roman_map[s[i]] < roman_map[s[i+1]]:\n",
        "                total -= roman_map[s[i]]\n",
        "            else:\n",
        "                total += roman_map[s[i]]\n",
        "        total += roman_map[s[-1]]\n",
        "        return total"
      ]
    },
    {
      "cell_type": "markdown",
      "metadata": {
        "id": "fWfSXA41WZZF"
      },
      "source": [
        "Задача №4. https://leetcode.com/problems/longest-common-prefix/description/"
      ]
    },
    {
      "cell_type": "code",
      "execution_count": 4,
      "metadata": {
        "id": "5-RwP3LEWZZF"
      },
      "outputs": [],
      "source": [
        "class Solution4(object):\n",
        "    def longestCommonPrefix(self, strs):\n",
        "        \"\"\"\n",
        "        :type strs: List[str]\n",
        "        :rtype: str\n",
        "        \"\"\"\n",
        "\n",
        "class Solution(object):\n",
        "    def longestCommonPrefix(self, strs):\n",
        "        if not strs:\n",
        "            return \"\"\n",
        "\n",
        "        shortest = min(strs, key=len)\n",
        "\n",
        "        for i, char in enumerate(shortest):\n",
        "            for other in strs:\n",
        "                if other[i] != char:\n",
        "                    return shortest[:i]\n",
        "\n",
        "        return shortest"
      ]
    },
    {
      "cell_type": "markdown",
      "metadata": {
        "id": "AVdC-UHUWZZF"
      },
      "source": [
        "Задача №5. https://leetcode.com/problems/merge-two-sorted-lists/description/"
      ]
    },
    {
      "cell_type": "code",
      "execution_count": 5,
      "metadata": {
        "id": "TvJME3NtWZZF"
      },
      "outputs": [],
      "source": [
        "class Solution5(object):\n",
        "    def mergeTwoLists(self, list1, list2):\n",
        "        \"\"\"\n",
        "        :type list1: Optional[ListNode]\n",
        "        :type list2: Optional[ListNode]\n",
        "        :rtype: Optional[ListNode]\n",
        "        \"\"\"\n",
        "\n",
        "class Solution(object):\n",
        "    def mergeTwoLists(self, list1, list2):\n",
        "        a = []\n",
        "        while list1:\n",
        "            a.append(list1.val)\n",
        "            list1 = list1.next\n",
        "        while list2:\n",
        "            a.append(list2.val)\n",
        "            list2 = list2.next\n",
        "        a.sort()\n",
        "\n",
        "        dummy = ListNode()\n",
        "        curr = dummy\n",
        "        for x in a:\n",
        "            curr.next = ListNode(x)\n",
        "            curr = curr.next\n",
        "\n",
        "        return dummy.next"
      ]
    },
    {
      "cell_type": "markdown",
      "metadata": {
        "id": "17uGoi7MWZZF"
      },
      "source": [
        "Задача №6. https://leetcode.com/problems/longest-substring-without-repeating-characters/description/"
      ]
    },
    {
      "cell_type": "code",
      "execution_count": 6,
      "metadata": {
        "id": "oqv5mGr8WZZF"
      },
      "outputs": [],
      "source": [
        "class Solution(object):\n",
        "    def lengthOfLongestSubstring(self, s):\n",
        "        \"\"\"\n",
        "        :type s: str\n",
        "        :rtype: int\n",
        "        \"\"\"\n",
        "\n",
        "class Solution(object):\n",
        "    def lengthOfLongestSubstring(self, s):\n",
        "        a = []\n",
        "        prev = \"\"\n",
        "\n",
        "        for i in s:\n",
        "            if i in prev:\n",
        "                prev = prev[prev.index(i)+1:]\n",
        "            prev += i\n",
        "            a.append(len(prev))\n",
        "\n",
        "        return max(a) if a else 0"
      ]
    }
  ],
  "metadata": {
    "language_info": {
      "name": "python"
    },
    "colab": {
      "provenance": []
    },
    "kernelspec": {
      "name": "python3",
      "display_name": "Python 3"
    }
  },
  "nbformat": 4,
  "nbformat_minor": 0
}